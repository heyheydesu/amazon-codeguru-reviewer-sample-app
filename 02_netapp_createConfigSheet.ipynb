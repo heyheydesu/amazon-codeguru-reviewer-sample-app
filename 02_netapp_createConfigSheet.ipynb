{
  "nbformat": 4,
  "nbformat_minor": 0,
  "metadata": {
    "colab": {
      "name": "02_netapp_createConfigSheet.ipynb",
      "provenance": [],
      "include_colab_link": true
    },
    "kernelspec": {
      "name": "python3",
      "display_name": "Python 3"
    }
  },
  "cells": [
    {
      "cell_type": "markdown",
      "metadata": {
        "id": "view-in-github",
        "colab_type": "text"
      },
      "source": [
        "<a href=\"https://colab.research.google.com/github/heyheydesu/amazon-codeguru-reviewer-sample-app/blob/master/02_netapp_createConfigSheet.ipynb\" target=\"_parent\"><img src=\"https://colab.research.google.com/assets/colab-badge.svg\" alt=\"Open In Colab\"/></a>"
      ]
    },
    {
      "cell_type": "code",
      "metadata": {
        "id": "IQbYxhDhR09N"
      },
      "source": [
        "#@title NetAppの設定書を自動的につくる\n",
        "\n",
        "# 使い方\n",
        "# 01_nettapp_getParamater.txtを機器で実行し、パラメータを取得する。\n",
        "# http://400cc.blog.fc2.com/blog-entry-113.html\n",
        "\n",
        "# 出力された結果をテキストに貼りつけ、保存する。\n",
        "\n",
        "# テキストを左のファイルにドラッグアンドドロップする\n",
        "\n",
        "# ファイル名をnetappp_souce_fileに入力する。\n",
        "\n",
        "# 実行　( ctlr + F9 )\n",
        "\n",
        "#[課題]  ,カンマで改行したい\n",
        "\n",
        "#[課題]  snmp-traphostが表にならない\n",
        "\n"
      ],
      "execution_count": 96,
      "outputs": []
    },
    {
      "cell_type": "code",
      "metadata": {
        "id": "-wI25BqPUpLJ"
      },
      "source": [
        "#@title ソースファイル名を入力\n",
        "netapp_source_file = 'sample.txt' #@param {type:\"string\"}\n",
        "netapp_source_path = '/content/' + netapp_source_file\n",
        "\n",
        "anken_name = \"test\" #@param {type:\"string\"}\n",
        "customer_corp = \"test\" #@param {type:\"string\"}\n",
        "customer_name = \"test\"  #@param {type:\"string\"}\n",
        "customer_tel = \"test\" #@param {type:\"string\"}\n",
        "customer_mail = \"test\" #@param {type:\"string\"}\n",
        "location_address= \"test\"#@param {type:\"string\"}\n",
        "\n",
        "\n",
        "customer_list = [\n",
        "                 ['会社名' , customer_corp],\n",
        "                 ['担当者' , customer_name],\n",
        "                 ['電話番号' , customer_tel],\n",
        "                 ['メールアドレス' , customer_mail],\n",
        "                 ['設置先情報' , location_address],\n",
        "                 ]\n"
      ],
      "execution_count": 97,
      "outputs": []
    },
    {
      "cell_type": "code",
      "metadata": {
        "id": "YHr3Vf0r8ixq"
      },
      "source": [
        "#@title 検索文字列リスト\n",
        "\n",
        "cluster_word_list =  [\"(Cluster Name):(.*)\" ,\"cluster_name\"]\n",
        "\n",
        "# 置換するワード(完全一致)\n",
        "replace_word_list = [\n",
        "                      ['#_ ',\"\"],\n",
        "                      [\"sheet.\",\"\"],\n",
        "                      [\"Sheet\",\"\"],\n",
        "                      ['version -node *',\"\"],\n",
        "                      ['NetApp Release ',\"\"],\n",
        "                      ['Cluster Location: \\n',\"\"],\n",
        "                      ['Cluster Contact: \\n',\"\"],\n",
        "                      ['(from \"system snmp traphost\")',\"\"],\n",
        "                      [\"There are no entries matching your query.\" , \"設定無し\"],\n",
        "                      [ '-spare-disks',\"\"],\n",
        "                      ['original-owner',\"node\"],\n",
        "\n",
        "                   ]\n",
        "\n",
        "# 置換するワード（正規表現）\n",
        "sub_word_list = [\n",
        "                  ['Cluster UUID: .{2,300}\\n',\"\"],\n",
        "                  ['Cluster Name: .{2,300}\\n',\"\"],\n",
        "                  ['Cluster Serial Number: .{2,300}\\n',\"\"],\n",
        "                  ['\\d{1,2} entries were displayed.',\"\"],\n",
        "                  ['\\n-*-',\"\"],\n",
        "                  [ '--*--',\"\"],\n",
        "                  ['.{2,100} show|-fields.{2,300}\\n',\"\"],\n",
        "                  ['local-usable-root-size',\"root-partiton\"],\n",
        "                  ['local-usable-data-size',\"data-patition\"],\n",
        "                ]\n",
        "\n"
      ],
      "execution_count": 98,
      "outputs": []
    },
    {
      "cell_type": "code",
      "metadata": {
        "id": "2hZ-OfIOVuL9",
        "cellView": "form",
        "colab": {
          "base_uri": "https://localhost:8080/"
        },
        "outputId": "ccab4579-d351-440e-8010-e170eff2719c"
      },
      "source": [
        "#@title [import] ライブラリ読み込み\n",
        "\n",
        "#エクセル操作\n",
        "!pip install openpyxl\n",
        "\n",
        "#ライブラリのインポート\n",
        "import re\n",
        "\n",
        "#エクセル操作\n",
        "import openpyxl\n",
        "import pprint\n",
        "import glob\n",
        "from openpyxl.styles.borders import Border, Side\n",
        "from openpyxl.styles.alignment import Alignment\n",
        "\n",
        "#フォント\n",
        "from openpyxl.styles.fonts import Font\n",
        "\n",
        "#ファイル操作用\n",
        "import shutil\n",
        "import os\n",
        "\n",
        "# 時間取得\n",
        "import datetime\n",
        "\n",
        "# ファイルダウンロード\n",
        "from google.colab import files"
      ],
      "execution_count": 99,
      "outputs": [
        {
          "output_type": "stream",
          "name": "stdout",
          "text": [
            "Requirement already satisfied: openpyxl in /usr/local/lib/python3.10/dist-packages (3.1.5)\n",
            "Requirement already satisfied: et-xmlfile in /usr/local/lib/python3.10/dist-packages (from openpyxl) (2.0.0)\n"
          ]
        }
      ]
    },
    {
      "cell_type": "code",
      "metadata": {
        "id": "BiBvL-m6WRt9",
        "cellView": "form"
      },
      "source": [
        "#@title　 [関数]  ファイル、フォルダ初期化\n",
        "\n",
        "def initConfigfolder():\n",
        "\n",
        "  #configフォルダがあれば、削除\n",
        "  if os.path.exists('/content/config'):\n",
        "    shutil.rmtree('/content/config')\n",
        "\n",
        "  #configフォルダを新規作成\n",
        "  os.mkdir('/content/config')"
      ],
      "execution_count": 100,
      "outputs": []
    },
    {
      "cell_type": "code",
      "metadata": {
        "id": "WAm06V3IweaD",
        "cellView": "form"
      },
      "source": [
        "#@title [関数]  元テキストデータを読み込み\n",
        "def readConfig():\n",
        "  config_path = netapp_source_path\n",
        "  config_raw = open( config_path, 'r' ,encoding=\"ISO-8859-1\")\n",
        "  config_text = config_raw.read()\n",
        "\n",
        "  return config_text"
      ],
      "execution_count": 101,
      "outputs": []
    },
    {
      "cell_type": "code",
      "metadata": {
        "id": "AClymLF79pvD",
        "cellView": "form"
      },
      "source": [
        "#@title [関数]　検索する文字の行を取得する関数\n",
        "def getPatternline( word_line):\n",
        "\n",
        "  #検索文字列を代入\n",
        "  pattern = word_line[0]\n",
        "\n",
        "  #検索して行を抽出\n",
        "  res = re.findall(pattern, readConfig())\n",
        "  print (res)\n",
        "  return res"
      ],
      "execution_count": 102,
      "outputs": []
    },
    {
      "cell_type": "code",
      "metadata": {
        "id": "taeMHhaJe2tH",
        "cellView": "form"
      },
      "source": [
        "#@title [関数] 不要な文字列を削除\n",
        "\n",
        "def replaceConfig( ):\n",
        "\n",
        "  # <先頭文字列>を削除\n",
        "  config_text001 = readConfig().replace( cluster_name + '::*>' , \"\")\n",
        "  config_text001 = config_text001.replace( cluster_name + '::>' , \"\")\n",
        "\n",
        "  for replace in range (len(sub_word_list)) :\n",
        "    # 不要文字リストを削除\n",
        "    config_text001 = re.sub( sub_word_list[replace][0] , sub_word_list[replace][1]  , config_text001 )\n",
        "\n",
        "  for delete in range (len(replace_word_list)) :\n",
        "    # 不要文字リストを削除\n",
        "    config_text001 = config_text001.replace( replace_word_list[delete][0]  , replace_word_list[delete][1])\n",
        "\n",
        "\n",
        "  return config_text001"
      ],
      "execution_count": 103,
      "outputs": []
    },
    {
      "cell_type": "code",
      "metadata": {
        "id": "TcqAXGJblg1V",
        "cellView": "form"
      },
      "source": [
        "#@title [関数]　元テキストを分割\n",
        "def splitConfig(  ):\n",
        "\n",
        "  # 元テキストデータを分割し、1次元リストに代入\n",
        "  config_split_list = replaceConfig().split( '#___' )\n",
        "\n",
        "  # テキストファイルを分割（リストごとにテキストファイルを作成）\n",
        "  for line in range ( len(config_split_list) ):\n",
        "\n",
        "    #ファイルを新規作成\n",
        "    config_split_path =  '/content/config/config_' + str(line).zfill(3) + '.txt'\n",
        "    f = open(config_split_path , 'w' )\n",
        "\n",
        "    #ファイルを書き込み\n",
        "    f.write( config_split_list[ line ])\n",
        "    f.close\n",
        "\n",
        "  return config_split_list"
      ],
      "execution_count": 104,
      "outputs": []
    },
    {
      "cell_type": "code",
      "metadata": {
        "id": "VQqCnBNxAuuO",
        "cellView": "form"
      },
      "source": [
        "#@title [関数] 分割したテキストファイルの読み込み\n",
        "\n",
        "def readConfigsplit( config_file ):\n",
        "  config_path = config_file\n",
        "  config_raw = open(config_path , 'r' ,encoding=\"UTF-8\")\n",
        "\n",
        "  # 1行ずつ配列に追加\n",
        "  row_no = 0\n",
        "  config_rows = []\n",
        "\n",
        "  while True :\n",
        "    config_rows.append( config_raw.readline() )\n",
        "\n",
        "    if config_rows[row_no]:\n",
        "      row_no += 1\n",
        "    else :\n",
        "      break\n",
        "\n",
        "  # 1行ずつ配列に追加\n",
        "  config_list = []\n",
        "  for config_i in range ( len(config_rows) ):\n",
        "    config_list.append( config_rows[ config_i ].split() )\n",
        "\n",
        "  return config_list"
      ],
      "execution_count": 105,
      "outputs": []
    },
    {
      "cell_type": "code",
      "metadata": {
        "id": "hE55Q_ujXYLE",
        "cellView": "form"
      },
      "source": [
        "#@title [関数] 印刷設定\n",
        "def printConfig(current_sheet):\n",
        "  current_sheet.page_setup.fitToWidth = 1\n",
        "  current_sheet.page_setup.fitToHeight = 0\n",
        "  current_sheet.sheet_properties.pageSetUpPr.fitToPage = True\n"
      ],
      "execution_count": 106,
      "outputs": []
    },
    {
      "cell_type": "code",
      "metadata": {
        "id": "T5sLfYOosDGF",
        "cellView": "form"
      },
      "source": [
        "#@title [関数] タイトル装飾\n",
        "def setSheettitle (current_sheet):\n",
        "\n",
        "  #タイトル文字色を白に変更\n",
        "  current_sheet['B2'].font = Font(color='FFFFFF' ,size=18)\n",
        "\n",
        "  #タイトル行を紺色にする\n",
        "  for color_rows in current_sheet['B2':'I2']:\n",
        "    for cell in color_rows:\n",
        "      cell.fill = openpyxl.styles.PatternFill(patternType='solid',fgColor='191970',bgColor='191970')\n",
        "\n",
        "\n",
        "  #2行目の列幅を広くする\n",
        "  current_sheet.row_dimensions[2].height = 32\n",
        "\n"
      ],
      "execution_count": 107,
      "outputs": []
    },
    {
      "cell_type": "code",
      "metadata": {
        "id": "_ylE-2jYwCzr"
      },
      "source": [
        "#@title [関数] テーブルの描画\n",
        "def drawTable( current_sheet ,table_start ,table_end, table_count): # Add table_count parameter):\n",
        "\n",
        "  # テーブルスタイルを定義\n",
        "  tableStyle = openpyxl.worksheet.table.TableStyleInfo( name='TableStyleMedium2',  showRowStripes=True)\n",
        "\n",
        "  # テーブルの範囲を定義\n",
        "  # table = openpyxl.worksheet.table.Table( ref= table_start +':' + table_end  ,displayName='',tableStyleInfo=tableStyle, headerRowCount=1)\n",
        "  # table_count を使用して一意の表示名を割り当てる\n",
        "  table_name = f'Table_{current_sheet.title}_{table_count}'\n",
        "  table = openpyxl.worksheet.table.Table(\n",
        "      ref= table_start +':' + table_end ,\n",
        "      displayName=table_name,  # 一意のテーブル名を使用\n",
        "      tableStyleInfo=tableStyle,\n",
        "      headerRowCount=1)\n",
        "\n",
        "  #フィルタが消える　（しかしヘッダの書式も消える）\n",
        "  #table = openpyxl.worksheet.table.Table( ref= table_start +':' + table_end  ,displayName='',tableStyleInfo=tableStyle, headerRowCount=0)\n",
        "\n",
        "  #テーブルを挿入\n",
        "  current_sheet.add_table(table)\n",
        "\n"
      ],
      "execution_count": 108,
      "outputs": []
    },
    {
      "cell_type": "code",
      "metadata": {
        "id": "SMFJSz2hqH5q"
      },
      "source": [
        "#@title [関数] A列を狭く、B～H列の幅調整\n",
        "def setColume_size (current_sheet):\n",
        "  current_sheet.column_dimensions['A'].width = 3\n",
        "  for i in range(ord('B'),ord('I')+1):\n",
        "    current_sheet.column_dimensions[chr(i)].width = 15\n"
      ],
      "execution_count": 109,
      "outputs": []
    },
    {
      "cell_type": "code",
      "metadata": {
        "id": "F1cXM_MIxdNo"
      },
      "source": [
        "#@title [関数] 表紙作成\n",
        "def createCover(cluster_name):\n",
        "\n",
        "  book.create_sheet( '表紙' )\n",
        "  current_sheet = book[ '表紙']\n",
        "\n",
        "  #目盛り線削除\n",
        "  current_sheet.sheet_view.showGridLines = False\n",
        "\n",
        "  #枠作成（セル結合）\n",
        "  current_sheet.merge_cells( 'B34:H38' )\n",
        "  current_sheet.merge_cells( 'B39:H41' )\n",
        "  current_sheet.merge_cells( 'B42:H45' )\n",
        "  current_sheet.merge_cells( 'D46:F48' )\n",
        "\n",
        "  #列幅\n",
        "  current_sheet.column_dimensions['A'].width = 3\n",
        "  current_sheet.column_dimensions['I'].width = 3\n",
        "\n",
        "  #案件名\n",
        "  current_sheet['H32'].value = '1.0.0版'\n",
        "  current_sheet['H32'].alignment = Alignment(horizontal = 'right', vertical = 'center', wrap_text = False)\n",
        "\n",
        "  #案件名\n",
        "  current_sheet['B34'].value = anken_name\n",
        "  current_sheet['B34'].font  = Font(size=16 )\n",
        "  current_sheet['B34'].alignment = Alignment(horizontal = 'center', vertical = 'center', wrap_text = False)\n",
        "\n",
        "  #機器、OS名\n",
        "  current_sheet['B39'].value = '設定シート'\n",
        "  current_sheet['B39'].font  = Font(size=26 )\n",
        "  current_sheet['B39'].alignment = Alignment(horizontal = 'center', vertical = 'center', wrap_text = False)\n",
        "\n",
        "  #機器、OS名\n",
        "  current_sheet['B42'].value = 'NetApp Clustered ONTAP 9'\n",
        "  current_sheet['B42'].font  = Font(size=26 )\n",
        "  current_sheet['B42'].alignment = Alignment(horizontal = 'center', vertical = 'center', wrap_text = False)\n",
        "\n",
        "\n",
        "  #クラスター名\n",
        "  current_sheet['D46'].value = 'クラスター名 : ' + cluster_name\n",
        "  current_sheet['D46'].font  = Font(size=11 )\n",
        "  current_sheet['D46'].alignment = Alignment(horizontal = 'center', vertical = 'center', wrap_text = False)\n",
        "\n",
        "\n",
        "  # 罫線スタイル\n",
        "  side = Side(style='thin', color='000000')\n",
        "  border = Border(top=side, bottom=side, left=side, right=side)\n",
        "\n",
        "  #罫線を描画\n",
        "  for rows in current_sheet['B34':'H38']:\n",
        "    for cell in rows:\n",
        "        cell.border = Border(left = side, right = side, top = side, bottom = side)\n",
        "\n",
        "  #列幅を調整\n",
        "  for i in range(ord('B'),ord('H')+1):\n",
        "    current_sheet.column_dimensions[chr(i)].width = 15\n",
        "\n",
        "  #印刷設定\n",
        "  printConfig(current_sheet)"
      ],
      "execution_count": 110,
      "outputs": []
    },
    {
      "cell_type": "code",
      "metadata": {
        "id": "68h77W4BzLMw"
      },
      "source": [
        "#@title [関数] 改訂履歴シート作成\n",
        "def createHistory():\n",
        "  #　改訂履歴シートを作成----------------------------------\n",
        "  book.create_sheet( '改訂履歴' )\n",
        "  current_sheet = book[ '改訂履歴']\n",
        "\n",
        "  #目盛り線削除\n",
        "  current_sheet.sheet_view.showGridLines = False\n",
        "\n",
        "  # A列を狭く、B～H列の幅調整\n",
        "  setColume_size (current_sheet)\n",
        "\n",
        "  #印刷設定\n",
        "  printConfig( current_sheet)\n",
        "\n",
        "  #タイトル行を紺色に変更\n",
        "  setSheettitle(current_sheet)\n",
        "\n",
        "  #タイトルを記入\n",
        "  current_sheet['B2'].value = '改訂履歴'\n",
        "\n",
        "  # datetimeインスタンスを作成\n",
        "  dt_now = datetime.datetime.now()\n",
        "\n",
        "  #列項目を作成\n",
        "  current_sheet['B4'].value = '●改訂履歴'\n",
        "  current_sheet['B5'].value = '版数'\n",
        "  current_sheet['C5'].value = '改訂日'\n",
        "  current_sheet['D5'].value = '改訂内容'\n",
        "  current_sheet['I5'].value = '改訂者'\n",
        "\n",
        "  # 2列目を記入\n",
        "  current_sheet['B6'].value = '1.0'\n",
        "  current_sheet['C6'].value = dt_now.strftime('%Y/%m/%d')\n",
        "  current_sheet['D6'].value = '新規作成'\n",
        "  current_sheet['I6'].value = 'CTC'\n",
        "\n",
        "\n",
        "  # 表作成\n",
        "  for border_y in range (5, 15):\n",
        "    #セル結合\n",
        "    current_sheet.merge_cells( current_sheet.cell( row=border_y , column= 4 ).coordinate +':' + current_sheet.cell( row=border_y , column= 8 ).coordinate )\n",
        "\n",
        "    # 罫線スタイル\n",
        "    side = Side(style='thin', color='000000')\n",
        "    border = Border(top=side, bottom=side, left=side, right=side)\n",
        "\n",
        "    for border_x in range (2, 10):\n",
        "      #罫線\n",
        "      current_sheet[ current_sheet.cell( row=border_y , column= border_x ).coordinate ].border = border\n",
        "      #列名を白に変更\n",
        "      current_sheet[current_sheet.cell( row=5 , column= border_x ).coordinate].font = Font(color='FFFFFF' )\n",
        "      #列背景色を白に変更\n",
        "      current_sheet[current_sheet.cell( row=5 , column= border_x ).coordinate].fill = openpyxl.styles.PatternFill(patternType='solid',fgColor='6495ED',bgColor='6495ED')\n",
        "\n"
      ],
      "execution_count": 111,
      "outputs": []
    },
    {
      "cell_type": "code",
      "metadata": {
        "id": "yXKPijuz4UJn"
      },
      "source": [
        "#@title [関数] コンフィグシート作成\n",
        "def createConfigsheet():\n",
        "  #シートを周回\n",
        "  for configfile_i in  range ( len(splitConfig()) ):\n",
        "    config_list = readConfigsplit( '/content/config/config_' + str(configfile_i).zfill(3) + '.txt' )\n",
        "\n",
        "    # エクセルファイルに書き込み\n",
        "\n",
        "    #シート名を設定\n",
        "    sheet_name = 'config_' + str(configfile_i).zfill(3)\n",
        "\n",
        "    #シートを作成\n",
        "    book.create_sheet( sheet_name )\n",
        "\n",
        "    #作成したシートに切り替え\n",
        "    current_sheet = book[sheet_name]\n",
        "\n",
        "    #目盛り線削除\n",
        "    current_sheet.sheet_view.showGridLines = False\n",
        "\n",
        "\n",
        "    #印刷設定\n",
        "    printConfig(current_sheet)\n",
        "\n",
        "    # A列を狭く、B～H列の幅調整\n",
        "    setColume_size ( current_sheet )\n",
        "\n",
        "    # セルへの書き込み開始-----------------------------------\n",
        "\n",
        "    # 1行ずつ読み込み\n",
        "    for write_y in range (1, len(config_list)) :\n",
        "\n",
        "      # さらに1セルずつ読み込み\n",
        "      for write_x in range (1, len(config_list[write_y -1])+1 ):\n",
        "\n",
        "        #セルに書き込み（スペースでセルを区切る）\n",
        "        current_sheet.cell( row=write_y+1, column=write_x+1 ).value = config_list[ write_y -1][write_x -1 ]\n",
        "        cell_now = current_sheet.cell( row=write_y+1, column=write_x+1 )\n",
        "\n"
      ],
      "execution_count": 112,
      "outputs": []
    },
    {
      "cell_type": "code",
      "metadata": {
        "id": "JP1505gQ3gvq"
      },
      "source": [
        "#@title [関数]テーブル作成\n",
        "def createTable():\n",
        "  #シートを周回\n",
        "  for configfile_i in  range ( len(splitConfig()) ):\n",
        "    config_list = readConfigsplit( '/content/config/config_' + str(configfile_i).zfill(3) + '.txt' )\n",
        "\n",
        "    #シート名を設定\n",
        "    sheet_name = 'config_' + str(configfile_i).zfill(3)\n",
        "\n",
        "    #シートを切り替え\n",
        "    current_sheet = book[sheet_name]\n",
        "\n",
        "    #タイトル行を紺色に変更\n",
        "    setSheettitle( current_sheet)\n",
        "\n",
        "    table_count = 0 # テーブルカウントを初期化\n",
        "\n",
        "    # 1行ずつ読み込み\n",
        "    for write_y in range (3, len(config_list)) :\n",
        "\n",
        "      # さらに1セルずつ読み込み\n",
        "      for write_x in range (1, len(config_list[write_y -1])+1 ):\n",
        "\n",
        "        #現在のセルの位置を取得\n",
        "        cell_now = current_sheet.cell( row=write_y+1, column=write_x+1 )\n",
        "\n",
        "        #現在のセルが空じゃない && ←左のセルが空 && ↑上のセルが空\n",
        "        #高さがあってない\n",
        "        if  cell_now.value  != '' and  current_sheet.cell( row=write_y+1, column=write_x ).value is None and current_sheet.cell( row=write_y, column=write_x+1 ).value is None:\n",
        "          # 現在のセルの真下のセルを取得\n",
        "          table_start = current_sheet.cell( row=write_y+2, column=write_x+1 ).coordinate\n",
        "\n",
        "        #現在のセルが空じゃない && ↑上のセルが空じゃない && →右のセルが空 && ↓下のセルが空\n",
        "        elif  cell_now.value  != '' and current_sheet.cell( row=write_y, column=write_x+1 ).value is not None and current_sheet.cell( row=write_y+1, column=write_x+2 ).value is None and current_sheet.cell( row=write_y+2, column=write_x+1 ).value is None:\n",
        "          table_end = current_sheet.cell( row=write_y+1 , column= write_x +1 ).coordinate\n",
        "\n",
        "          #テーブルを作成\n",
        "          table_count += 1 # テーブルカウントをインクリメント\n",
        "          drawTable( current_sheet ,table_start ,table_end, table_count )  # table_count を渡す\n",
        "          # drawTable( current_sheet ,table_start ,table_end )"
      ],
      "execution_count": 113,
      "outputs": []
    },
    {
      "cell_type": "code",
      "metadata": {
        "id": "YeD1GZ6y2YEE"
      },
      "source": [
        "#@title [関数]シートタイトルの変更\n",
        "def changeSheetname():\n",
        "  for configfile_i in  range ( len(splitConfig()) ):\n",
        "    config_list = readConfigsplit( '/content/config/config_' + str(configfile_i).zfill(3) + '.txt' )\n",
        "\n",
        "    #シート名を設定\n",
        "    sheet_name = 'config_' + str(configfile_i).zfill(3)\n",
        "\n",
        "    #シートタイトルを変更（空のときはスキップ）\n",
        "    if config_list[0] != [] :\n",
        "      book[ sheet_name ].title = config_list[0][0]"
      ],
      "execution_count": 114,
      "outputs": []
    },
    {
      "cell_type": "code",
      "metadata": {
        "id": "yYhiHvWtz3wS"
      },
      "source": [
        "#@title [関数]設置先情報シート作成\n",
        "def createCustomer():\n",
        "  book.create_sheet( '設置先情報' )\n",
        "  current_sheet = book[ '設置先情報']\n",
        "\n",
        "  #目盛り線削除\n",
        "  current_sheet.sheet_view.showGridLines = False\n",
        "\n",
        "  # A列を狭く、B～H列の幅調整\n",
        "  setColume_size (current_sheet)\n",
        "\n",
        "  #印刷設定\n",
        "  printConfig(current_sheet)\n",
        "\n",
        "  #タイトル行を紺色に変更\n",
        "  setSheettitle(current_sheet)\n",
        "\n",
        "  #タイトルを記入\n",
        "  current_sheet['B2'].value = '設置先情報'\n",
        "\n",
        "  # 表作成\n",
        "  for vborder_y in range ( len(customer_list)*3 ):\n",
        "\n",
        "    #セル結合\n",
        "    current_sheet.merge_cells( current_sheet.cell( row=vborder_y +5 , column= 2 ).coordinate +':' + current_sheet.cell( row=vborder_y+7 , column= 3 ).coordinate )\n",
        "    current_sheet.merge_cells( current_sheet.cell( row=vborder_y +5 , column= 4 ).coordinate +':' + current_sheet.cell( row=vborder_y+7 , column= 8 ).coordinate )\n",
        "\n",
        "    #列名を白に変更\n",
        "    current_sheet[current_sheet.cell( row=vborder_y +5 , column= 2 ).coordinate].font = Font(color='FFFFFF' )\n",
        "\n",
        "    #列背景色を青に変更\n",
        "    current_sheet[current_sheet.cell( row=vborder_y +5  , column= 2 ).coordinate].fill = openpyxl.styles.PatternFill(patternType='solid',fgColor='6495ED',bgColor='6495ED')\n",
        "\n",
        "  #罫線を描画\n",
        "  for rows in current_sheet['B5':'H19']:\n",
        "    for cell in rows:\n",
        "        cell.border = Border(left = side, right = side, top = side, bottom = side)\n",
        "\n",
        "\n",
        "  #列項目を作成\n",
        "def createCustomer():\n",
        "  book.create_sheet( '設置先情報' )\n",
        "  current_sheet = book[ '設置先情報']\n",
        "\n",
        "  # ... (他のコード) ...\n",
        "\n",
        "  # 列項目を作成\n",
        "  write_row = 5  # 初期行を設定\n",
        "  for customer_y in range(len(customer_list)):\n",
        "    write_col = 2  # 初期列を設定\n",
        "    for customer_x in range(len(customer_list[0])):\n",
        "      # ... (残りのコード) ...\n",
        "\n",
        "      # ターゲットセルが結合された範囲内にあるかどうかを確認する\n",
        "      if not isinstance(current_sheet.cell(row=write_row, column=write_col), openpyxl.cell.cell.MergedCell):\n",
        "        # 結合されていない場合は、値を書き込む\n",
        "        current_sheet.cell(row=write_row, column=write_col).value = customer_list[customer_y][customer_x]\n",
        "      else:\n",
        "        # 結合されている場合は、結合された範囲の左上のセルを見つけて書き込む\n",
        "        merged_cell_ranges = current_sheet.merged_cells.ranges\n",
        "        for merged_cell_range in merged_cell_ranges:\n",
        "          if current_sheet.cell(row=write_row, column=write_col).coordinate in merged_cell_range:\n",
        "            top_left_cell = current_sheet.cell(row=merged_cell_range.min_row, column=merged_cell_range.min_col)\n",
        "            top_left_cell.value = customer_list[customer_y][customer_x]\n",
        "            break  # 見つけて書き込んだので、それ以上のチェックは不要\n",
        "\n",
        "      write_col += 2  # 次の列へ移動 (2列ずつ)\n",
        "    write_row += 3  # 次の行へ移動 (3行ずつ)\n"
      ],
      "execution_count": 115,
      "outputs": []
    },
    {
      "cell_type": "code",
      "metadata": {
        "id": "NO96HKJbBbC3",
        "colab": {
          "base_uri": "https://localhost:8080/"
        },
        "outputId": "972ebd2e-04ad-4dc0-9c88-fd511eb49f16"
      },
      "source": [
        "#@title クラスター名を取得\n",
        "\n",
        "exec( '{} = {}'.format( cluster_word_list[1], ' getPatternline(cluster_word_list)[0][1].replace(\" \",\"\")'))\n"
      ],
      "execution_count": 116,
      "outputs": [
        {
          "output_type": "stream",
          "name": "stdout",
          "text": [
            "[('Cluster Name', ' TMPCLST01')]\n"
          ]
        }
      ]
    },
    {
      "cell_type": "code",
      "metadata": {
        "id": "8RPIKYb3TXjy",
        "cellView": "form",
        "colab": {
          "base_uri": "https://localhost:8080/"
        },
        "outputId": "411fb1f1-2717-487f-847f-9561cfa36b26"
      },
      "source": [
        "#@title テキストの分割を実行\n",
        "\n",
        "# 分割するテキストフォルダを初期化\n",
        "initConfigfolder()\n",
        "\n",
        "# 元テキストから不要なテキストを削除\n",
        "replaceConfig(  )\n",
        "\n",
        "# 元テキストを分割\n",
        "splitConfig( )\n"
      ],
      "execution_count": 117,
      "outputs": [
        {
          "output_type": "execute_result",
          "data": {
            "text/plain": [
              "[' #ã\\x83\\x91ã\\x83©ã\\x83¡ã\\x83¼ã\\x82¿ã\\x82·ã\\x83¼ã\\x83\\x88ä½\\x9cæ\\x88\\x90ç\\x94¨ã\\x81«å¿\\x85è¦\\x81ã\\x81ªã\\x83\\x91ã\\x83©ã\\x83¡ã\\x83¼ã\\x82¿ã\\x81®ã\\x81¿æ\\x8a½å\\x87º\\n\\n #--\\n\\n ',\n",
              " ' setup ä¸\\x80æ\\x8b¬è¡¨ç¤º\\n set -rows 0\\n\\n set -privilege advanced\\n\\nWarning: These advanced commands are potentially dangerous; use them only when directed to do so by NetApp personnel.\\nDo you want to continue? {y|n}: y\\n\\n ',\n",
              " ' Node \\n\\n node_infomation\\n node         model  serialnumber  \\nTMPCLST01-01 SIMBOX 4034389-06-2\\nTMPCLST01-02 SIMBOX 4082368-50-7\\n\\n\\n\\n ONTAP_version\\n  node         version \\nTMPCLST01-01 9.10.1: Sat Jan 15 10:49:44 UTC 2022\\nTMPCLST01-02 9.10.1: Sat Jan 15 10:49:44 UTC 2022\\n\\n\\n\\n license\\n serial-number package owner  \\n1-80-000011   Base    TMPCLST01\\n1-80-000011   SnapMirror_Sync TMPCLST01\\n1-81-0000000000000004034389062 NFS TMPCLST01-01\\n1-81-0000000000000004034389062 CIFS TMPCLST01-01\\n1-81-0000000000000004034389062 iSCSI TMPCLST01-01\\n1-81-0000000000000004034389062 FCP TMPCLST01-01\\n1-81-0000000000000004034389062 SnapRestore TMPCLST01-01\\n1-81-0000000000000004034389062 SnapMirror TMPCLST01-01\\n1-81-0000000000000004034389062 FlexClone TMPCLST01-01\\n1-81-0000000000000004034389062 SnapVault TMPCLST01-01\\n1-81-0000000000000004034389062 SnapLock TMPCLST01-01\\n1-81-0000000000000004034389062 SnapManagerSuite TMPCLST01-01\\n1-81-0000000000000004034389062 SnapProtectApps TMPCLST01-01\\n1-81-0000000000000004034389062 Insight_Balance TMPCLST01-01\\n1-81-0000000000000004082368507 NFS TMPCLST01-02\\n1-81-0000000000000004082368507 CIFS TMPCLST01-02\\n1-81-0000000000000004082368507 iSCSI TMPCLST01-02\\n1-81-0000000000000004082368507 FCP TMPCLST01-02\\n1-81-0000000000000004082368507 SnapRestore TMPCLST01-02\\n1-81-0000000000000004082368507 SnapMirror TMPCLST01-02\\n1-81-0000000000000004082368507 FlexClone TMPCLST01-02\\n1-81-0000000000000004082368507 SnapVault TMPCLST01-02\\n1-81-0000000000000004082368507 SnapLock TMPCLST01-02\\n1-81-0000000000000004082368507 SnapManagerSuite TMPCLST01-02\\n1-81-0000000000000004082368507 SnapProtectApps TMPCLST01-02\\n1-81-0000000000000004082368507 Insight_Balance TMPCLST01-02\\n\\n\\n\\n\\n ',\n",
              " ' Cluster \\n\\n cluster_name\\n\\n\\n                           Cluster Location:\\n       Cluster Contact:\\n\\n\\n Cluster_User\\n vserver   user-or-group-name application authentication-method remote-switch-ipaddress role     \\nTMPCLST01 admin              ontapi      cert                  -                       admin\\nTMPCLST01 admin              ontapi      password              -                       admin\\n\\n\\n\\n password_rule\\n vserver       role    passwd-minlength passwd-min-special-chars require-initial-passwd-update max-failed-login-attempts disallowed-reuse passwd-min-lowercase-chars passwd-min-uppercase-chars passwd-min-digits         \\nONTAPCLUSTER8 vsadmin 8                0                        disabled                      0                         6                0                          0                          0\\nONTAPCLUSTER8 vsadmin-backup 8         0                        disabled                      0                         6                0                          0                          0\\nONTAPCLUSTER8 vsadmin-protocol 8       0                        disabled                      0                         6                0                          0                          0\\nONTAPCLUSTER8 vsadmin-readonly 8       0                        disabled                      0                         6                0                          0                          0\\nONTAPCLUSTER8 vsadmin-snaplock 8       0                        disabled                      0                         6                0                          0                          0\\nONTAPCLUSTER8 vsadmin-volume 8         0                        disabled                      0                         6                0                          0                          0\\nSVM           vsadmin 8                0                        disabled                      0                         6                0                          0                          0\\nSVM           vsadmin-backup 8         0                        disabled                      0                         6                0                          0                          0\\nSVM           vsadmin-protocol 8       0                        disabled                      0                         6                0                          0                          0\\nSVM           vsadmin-readonly 8       0                        disabled                      0                         6                0                          0                          0\\nSVM           vsadmin-snaplock 8       0                        disabled                      0                         6                0                          0                          0\\nSVM           vsadmin-volume 8         0                        disabled                      0                         6                0                          0                          0\\nTMPCIFS01     vsadmin 8                0                        disabled                      0                         6                0                          0                          0\\nTMPCIFS01     vsadmin-backup 8         0                        disabled                      0                         6                0                          0                          0\\nTMPCIFS01     vsadmin-protocol 8       0                        disabled                      0                         6                0                          0                          0\\nTMPCIFS01     vsadmin-readonly 8       0                        disabled                      0                         6                0                          0                          0\\nTMPCIFS01     vsadmin-snaplock 8       0                        disabled                      0                         6                0                          0                          0\\nTMPCIFS01     vsadmin-volume 8         0                        disabled                      0                         6                0                          0                          0\\nTMPCLST01     SCV     8                0                        disabled                      0                         6                0                          0                          0\\nTMPCLST01     admin   8                0                        disabled                      0                         6                0                          0                          0\\nTMPCLST01     autosupport 8            0                        disabled                      0                         6                0                          0                          0\\nTMPCLST01     backup  8                0                        disabled                      0                         6                0                          0                          0\\nTMPCLST01     none    8                0                        disabled                      0                         6                0                          0                          0\\nTMPCLST01     readonly 8               0                        disabled                      0                         6                0                          0                          0\\nTMPCLST01     snaplock 8               0                        disabled                      0                         6                0                          0                          0\\nVMNFSDS01     vsadmin 8                0                        disabled                      0                         6                0                          0                          0\\nVMNFSDS01     vsadmin-backup 8         0                        disabled                      0                         6                0                          0                          0\\nVMNFSDS01     vsadmin-protocol 8       0                        disabled                      0                         6                0                          0                          0\\nVMNFSDS01     vsadmin-readonly 8       0                        disabled                      0                         6                0                          0                          0\\nVMNFSDS01     vsadmin-snaplock 8       0                        disabled                      0                         6                0                          0                          0\\nVMNFSDS01     vsadmin-volume 8         0                        disabled                      0                         6                0                          0                          0\\ncifs01        vsadmin 8                0                        disabled                      0                         6                0                          0                          0\\ncifs01        vsadmin-backup 8         0                        disabled                      0                         6                0                          0                          0\\ncifs01        vsadmin-protocol 8       0                        disabled                      0                         6                0                          0                          0\\ncifs01        vsadmin-readonly 8       0                        disabled                      0                         6                0                          0                          0\\ncifs01        vsadmin-snaplock 8       0                        disabled                      0                         6                0                          0                          0\\ncifs01        vsadmin-volume 8         0                        disabled                      0                         6                0                          0                          0\\ncifs01drnew   vsadmin 8                0                        disabled                      0                         6                0                          0                          0\\ncifs01drnew   vsadmin-backup 8         0                        disabled                      0                         6                0                          0                          0\\ncifs01drnew   vsadmin-protocol 8       0                        disabled                      0                         6                0                          0                          0\\ncifs01drnew   vsadmin-readonly 8       0                        disabled                      0                         6                0                          0                          0\\ncifs01drnew   vsadmin-snaplock 8       0                        disabled                      0                         6                0                          0                          0\\ncifs01drnew   vsadmin-volume 8         0                        disabled                      0                         6                0                          0                          0\\nfileserver01  vsadmin 8                0                        disabled                      0                         6                0                          0                          0\\nfileserver01  vsadmin-backup 8         0                        disabled                      0                         6                0                          0                          0\\nfileserver01  vsadmin-protocol 8       0                        disabled                      0                         6                0                          0                          0\\nfileserver01  vsadmin-readonly 8       0                        disabled                      0                         6                0                          0                          0\\nfileserver01  vsadmin-snaplock 8       0                        disabled                      0                         6                0                          0                          0\\nfileserver01  vsadmin-volume 8         0                        disabled                      0                         6                0                          0                          0\\nnpserv01-dr   vsadmin 8                0                        disabled                      0                         6                0                          0                          0\\nnpserv01-dr   vsadmin-backup 8         0                        disabled                      0                         6                0                          0                          0\\nnpserv01-dr   vsadmin-protocol 8       0                        disabled                      0                         6                0                          0                          0\\nnpserv01-dr   vsadmin-readonly 8       0                        disabled                      0                         6                0                          0                          0\\nnpserv01-dr   vsadmin-snaplock 8       0                        disabled                      0                         6                0                          0                          0\\nnpserv01-dr   vsadmin-volume 8         0                        disabled                      0                         6                0                          0                          0\\nnpserv02-dr   vsadmin 8                0                        disabled                      0                         6                0                          0                          0\\nnpserv02-dr   vsadmin-backup 8         0                        disabled                      0                         6                0                          0                          0\\nnpserv02-dr   vsadmin-protocol 8       0                        disabled                      0                         6                0                          0                          0\\nnpserv02-dr   vsadmin-readonly 8       0                        disabled                      0                         6                0                          0                          0\\nnpserv02-dr   vsadmin-snaplock 8       0                        disabled                      0                         6                0                          0                          0\\nnpserv02-dr   vsadmin-volume 8         0                        disabled                      0                         6                0                          0                          0\\nntsv007       vsadmin 8                0                        disabled                      0                         6                0                          0                          0\\nntsv007       vsadmin-backup 8         0                        disabled                      0                         6                0                          0                          0\\nntsv007       vsadmin-protocol 8       0                        disabled                      0                         6                0                          0                          0\\nntsv007       vsadmin-readonly 8       0                        disabled                      0                         6                0                          0                          0\\nntsv007       vsadmin-snaplock 8       0                        disabled                      0                         6                0                          0                          0\\nntsv007       vsadmin-volume 8         0                        disabled                      0                         6                0                          0                          0\\noze7a         vsadmin 8                0                        disabled                      0                         6                0                          0                          0\\noze7a         vsadmin-backup 8         0                        disabled                      0                         6                0                          0                          0\\noze7a         vsadmin-protocol 8       0                        disabled                      0                         6                0                          0                          0\\noze7a         vsadmin-readonly 8       0                        disabled                      0                         6                0                          0                          0\\noze7a         vsadmin-snaplock 8       0                        disabled                      0                         6                0                          0                          0\\noze7a         vsadmin-volume 8         0                        disabled                      0                         6                0                          0                          0\\nsvm-ntsv008   vsadmin 8                0                        disabled                      0                         6                0                          0                          0\\nsvm-ntsv008   vsadmin-backup 8         0                        disabled                      0                         6                0                          0                          0\\nsvm-ntsv008   vsadmin-protocol 8       0                        disabled                      0                         6                0                          0                          0\\nsvm-ntsv008   vsadmin-readonly 8       0                        disabled                      0                         6                0                          0                          0\\nsvm-ntsv008   vsadmin-snaplock 8       0                        disabled                      0                         6                0                          0                          0\\nsvm-ntsv008   vsadmin-volume 8         0                        disabled                      0                         6                0                          0                          0\\ntyo-netapp07  vsadmin 8                0                        disabled                      0                         6                0                          0                          0\\ntyo-netapp07  vsadmin-backup 8         0                        disabled                      0                         6                0                          0                          0\\ntyo-netapp07  vsadmin-protocol 8       0                        disabled                      0                         6                0                          0                          0\\ntyo-netapp07  vsadmin-readonly 8       0                        disabled                      0                         6                0                          0                          0\\ntyo-netapp07  vsadmin-snaplock 8       0                        disabled                      0                         6                0                          0                          0\\ntyo-netapp07  vsadmin-volume 8         0                        disabled                      0                         6                0                          0                          0\\n\\n\\n\\n System_service_web\\n http-port https-port status http-enabled   \\n80        443        online false\\n\\n\\n autosupport\\n node         mail-hosts from       to partner-address transport   --  \\nTMPCLST01-01 mailhost   Postmaster -  -               https\\nTMPCLST01-02 mailhost   Postmaster -  -               https\\n\\n\\n\\n autosupport_option\\n node         retry-interval retry-count max-smtp-size remove-private-data    \\nTMPCLST01-01 4m             15          5MB           false\\nTMPCLST01-02 4m             15          5MB           false\\n\\n\\n\\n snmp_community\\n 設定無し\\n\\n\\n snmp_traphost\\n name          destination \\nsnmp-traphost \"192.168.100.180 \"\\n\\n\\n syslog_remotehost\\n 設定無し\\n\\n\\n notification\\n\\nID   Filter Name                     Destinations   \\n1    supportmail-traps               snmp-traphost\\n2    TMPAIQU01-test-lab_filter       TMPAIQU01-test-lab_server\\n3    volfull                         sophia, sophia-support, c1st\\n\\n\\n\\n NTP_server\\n server        version \\n192.168.100.1 auto\\n\\n\\n timezone\\n node         timezone \\nTMPCLST01-01 Asia/Tokyo\\nTMPCLST01-02 Asia/Tokyo\\n\\n\\n\\n storage_failover\\n node         partner-name enabled mode   aggregate-migration-timeout    \\nTMPCLST01-01 -            -       non_ha -\\nTMPCLST01-02 -            -       non_ha -\\n\\n\\n\\n storage_failover_takeover\\n node         detection-time onfailure onpanic onshort-uptime onreboot     \\nTMPCLST01-01 -              -         -       -              -\\nTMPCLST01-02 -              -         -       -              -\\n\\n\\n\\n storage_failover_giveback\\n node         auto-giveback delay-seconds auto-giveback-after-panic   \\nTMPCLST01-01 -             -             -\\nTMPCLST01-02 -             -             -\\n\\n\\n\\n storage_failover_hwassist\\n node         hwassist hwassist-partner-ip hwassist-partner-port   \\nTMPCLST01-01 -        -                   -\\nTMPCLST01-02 -        -                   -\\n\\n\\n\\n\\n ',\n",
              " ' Network \\n\\n\\n Network_port\\n node         port mtu  speed-admin ifgrp-port vlan-tag broadcast-domain      \\nTMPCLST01-01 a0a  1500 -           -          -        -\\nTMPCLST01-01 e0a  9000 auto        -          -        Cluster\\nTMPCLST01-01 e0b  9000 auto        -          -        Cluster\\nTMPCLST01-01 e0c  1500 auto        -          -        192.168.100.0/24\\nTMPCLST01-01 e0c-2031 1500 -       -          2031     vlan2031\\nTMPCLST01-01 e0d  9000 auto        -          -        172.24.20.0/24\\nTMPCLST01-02 a0a  1500 -           -          -        -\\nTMPCLST01-02 e0a  9000 auto        -          -        Cluster\\nTMPCLST01-02 e0b  9000 auto        -          -        Cluster\\nTMPCLST01-02 e0c  1500 auto        -          -        192.168.100.0/24\\nTMPCLST01-02 e0c-2031 1500 -       -          2031     vlan2031\\nTMPCLST01-02 e0d  9000 auto        -          -        172.24.20.0/24\\n\\n\\n\\n Network_ifgrp\\n node         ifgrp distr-func mode       ports    \\nTMPCLST01-01 a0a   ip         singlemode -\\nTMPCLST01-02 a0a   ip         singlemode -\\n\\n\\n\\n Network_vlan\\n node         vlan-name port vlan-id   \\nTMPCLST01-01 e0c-2031  e0c  2031\\nTMPCLST01-02 e0c-2031  e0c  2031\\n\\n\\n\\n Network_IPSpace\\n ipspace broadcast-domains vservers  \\nCluster Cluster           Cluster\\nDefault 172.16.64.0/22,172.24.20.0/24,192.168.100.0/24,Default-1,vlan2031 ONTAPCLUSTER8,SVM,TMPCIFS01,TMPCLST01,VMNFSDS01,cifs01,cifs01drnew,fileserver01,npserv01-dr,npserv02-dr,ntsv007,oze7a,svm-ntsv008,tyo-netapp07\\n\\n\\n\\n Network_broadcast-domain\\n ipspace broadcast-domain mtu  ports   \\nCluster Cluster          9000 TMPCLST01-02:e0a,TMPCLST01-02:e0b,TMPCLST01-01:e0a,TMPCLST01-01:e0b\\nDefault 172.16.64.0/22   1500 -\\nDefault 172.24.20.0/24   9000 TMPCLST01-02:e0d,TMPCLST01-01:e0d\\nDefault 192.168.100.0/24 1500 TMPCLST01-02:e0c,TMPCLST01-01:e0c\\nDefault Default-1        1500 -\\nDefault vlan2031         1500 TMPCLST01-02:e0c-2031,TMPCLST01-01:e0c-2031\\n\\n\\n\\n Network_interface\\n vserver lif                service-policy  role    data-protocol address         netmask     home-node    home-port failover-group         \\nCluster TMPCLST01-01_clus1 default-cluster cluster none          169.254.150.217 255.255.0.0 TMPCLST01-01 e0a       Cluster\\nCluster TMPCLST01-01_clus2 default-cluster cluster none          169.254.18.84   255.255.0.0 TMPCLST01-01 e0b       Cluster\\nCluster TMPCLST01-02_clus1 default-cluster cluster none          169.254.125.114 255.255.0.0 TMPCLST01-02 e0a       Cluster\\nCluster TMPCLST01-02_clus2 default-cluster cluster none          169.254.134.225 255.255.0.0 TMPCLST01-02 e0b       Cluster\\nONTAPCLUSTER8 ONTAPCLUSTER8_cifs default-data-files data nfs,cifs,fcache 192.168.100.210 255.255.255.0 TMPCLST01-01 e0c 192.168.100.0/24\\nTMPCIFS01 TMPCIFS01_cifs   default-data-files data nfs,cifs,fcache 192.168.100.52 255.255.255.0 TMPCLST01-01 e0c    192.168.100.0/24\\nTMPCLST01 TMPCLST01-01_ic1 default-intercluster intercluster none 192.168.100.43 255.255.255.0 TMPCLST01-01 e0c     192.168.100.0/24\\nTMPCLST01 TMPCLST01-01_mgmt1 default-management node-mgmt none   192.168.100.41  255.255.255.0 TMPCLST01-01 e0c     192.168.100.0/24\\nTMPCLST01 TMPCLST01-02_ic1 default-intercluster intercluster none 192.168.100.44 255.255.255.0 TMPCLST01-02 e0c     192.168.100.0/24\\nTMPCLST01 TMPCLST01-02_mgmt1 default-management node-mgmt none   192.168.100.42  255.255.255.0 TMPCLST01-02 e0c     192.168.100.0/24\\nTMPCLST01 cluster_mgmt     default-management cluster-mgmt none  192.168.100.40  255.255.255.0 TMPCLST01-01 e0c     192.168.100.0/24\\nVMNFSDS01 VMNFSDS01_nfs    default-data-files data nfs,cifs,fcache 172.24.20.155 255.255.255.0 TMPCLST01-01 e0d     172.24.20.0/24\\ncifs01  cifs01_cifs        default-data-files data nfs,cifs,fcache 192.168.100.55 255.255.255.0 TMPCLST01-01 e0c    192.168.100.0/24\\ncifs01  iscsi              default-data-iscsi data iscsi         192.168.100.110 255.255.255.0 TMPCLST01-01 e0c     192.168.100.0/24\\nfileserver01 fileserver01_cifs default-data-files data nfs,cifs,fcache 192.168.100.56 255.255.255.0 TMPCLST01-01 e0c 192.168.100.0/24\\nntsv007 ntsv007_cifs       default-data-files data nfs,cifs,fcache 192.168.100.53 255.255.255.0 TMPCLST01-01 e0c    192.168.100.0/24\\nntsv007 ntsv007_mgmt       default-management data none          192.168.100.58  255.255.255.0 TMPCLST01-01 e0c     192.168.100.0/24\\noze7a   oze9d_lif2031      default-data-files data nfs,cifs,fcache 172.20.31.23  255.255.255.0 TMPCLST01-01 e0c     192.168.100.0/24\\nsvm-ntsv008 ntsv008_cifs   default-data-files data nfs,cifs,fcache 192.168.100.54 255.255.255.0 TMPCLST01-01 e0c    192.168.100.0/24\\n\\n\\n\\n Network_interface_failover-group\\n vserver failover-group targets  \\nCluster Cluster        TMPCLST01-02:e0a,TMPCLST01-02:e0b,TMPCLST01-01:e0a,TMPCLST01-01:e0b\\nTMPCLST01 172.24.20.0/24 TMPCLST01-02:e0d,TMPCLST01-01:e0d\\nTMPCLST01 192.168.100.0/24 TMPCLST01-02:e0c,TMPCLST01-01:e0c\\nTMPCLST01 vlan2031     TMPCLST01-02:e0c-2031,TMPCLST01-01:e0c-2031\\n\\n\\n\\n Network_routing\\n-lifs vserver   destination gateway         lifs   \\nTMPCIFS01 0.0.0.0/0   192.168.100.254 TMPCIFS01_cifs\\nTMPCLST01 0.0.0.0/0   192.168.100.254 TMPCLST01-01_ic1,TMPCLST01-01_mgmt1,TMPCLST01-02_ic1,TMPCLST01-02_mgmt1,cluster_mgmt\\noze7a     0.0.0.0/0   172.20.31.1     oze9d_lif2031\\n\\n\\n\\n Service Processer network\\n node         address-family ip-address netmask gateway    \\nTMPCLST01-01 IPv4           -          -       -\\nTMPCLST01-01 IPv6           -          -       -\\nTMPCLST01-02 IPv4           -          -       -\\nTMPCLST01-02 IPv6           -          -       -\\n\\n\\n\\n dns\\n vserver       domains  name-servers  \\nONTAPCLUSTER8 test.lab 192.168.100.1,192.168.100.2\\nTMPCIFS01     test.lab 192.168.100.1,192.168.100.2\\nTMPCLST01     test.lab 192.168.100.1,192.168.100.2\\ncifs01        test.lab 192.168.100.1,192.168.100.2\\nfileserver01  test.lab 192.168.100.1,192.168.100.2\\nntsv007       test.lab 192.168.100.1\\nsvm-ntsv008   test.lab 192.168.100.1,192.168.100.2\\n\\n\\n\\n\\n ',\n",
              " ' Aggregate \\n\\n spare disk\\n node disk     data-patition root-partiton   \\nTMPCLST01-01   NET-1.2  -                      -\\nTMPCLST01-01   NET-1.3  -                      -\\nTMPCLST01-01   NET-1.4  -                      -\\nTMPCLST01-01   NET-1.5  -                      -\\nTMPCLST01-01   NET-1.6  -                      -\\nTMPCLST01-01   NET-1.7  -                      -\\nTMPCLST01-01   NET-1.8  -                      -\\nTMPCLST01-01   NET-1.15 -                      -\\nTMPCLST01-01   NET-1.16 -                      -\\nTMPCLST01-01   NET-1.17 -                      -\\nTMPCLST01-01   NET-1.18 -                      -\\nTMPCLST01-01   NET-1.19 -                      -\\nTMPCLST01-01   NET-1.21 -                      -\\nTMPCLST01-01   NET-1.25 -                      -\\nTMPCLST01-01   NET-1.26 -                      -\\nTMPCLST01-01   NET-1.27 -                      -\\nTMPCLST01-01   NET-1.28 -                      -\\nTMPCLST01-01   NET-1.29 -                      -\\nTMPCLST01-01   NET-1.37 -                      -\\nTMPCLST01-01   NET-1.38 -                      -\\nTMPCLST01-01   NET-1.39 -                      -\\nTMPCLST01-01   NET-1.40 -                      -\\nTMPCLST01-01   NET-1.41 -                      -\\nTMPCLST01-01   NET-1.42 -                      -\\nTMPCLST01-01   NET-1.43 -                      -\\nTMPCLST01-01   NET-1.44 -                      -\\nTMPCLST01-01   NET-1.45 -                      -\\nTMPCLST01-01   NET-1.46 -                      -\\nTMPCLST01-01   NET-1.47 -                      -\\nTMPCLST01-01   NET-1.48 -                      -\\nTMPCLST01-01   NET-1.49 -                      -\\nTMPCLST01-01   NET-1.50 -                      -\\nTMPCLST01-01   NET-1.51 -                      -\\nTMPCLST01-01   NET-1.52 -                      -\\nTMPCLST01-01   NET-1.53 -                      -\\nTMPCLST01-01   NET-1.54 -                      -\\nTMPCLST01-01   NET-1.55 -                      -\\nTMPCLST01-01   NET-1.56 -                      -\\nTMPCLST01-02   NET-2.2  -                      -\\nTMPCLST01-02   NET-2.3  -                      -\\nTMPCLST01-02   NET-2.4  -                      -\\nTMPCLST01-02   NET-2.5  -                      -\\nTMPCLST01-02   NET-2.6  -                      -\\nTMPCLST01-02   NET-2.7  -                      -\\nTMPCLST01-02   NET-2.8  -                      -\\nTMPCLST01-02   NET-2.9  -                      -\\nTMPCLST01-02   NET-2.10 -                      -\\nTMPCLST01-02   NET-2.11 -                      -\\nTMPCLST01-02   NET-2.15 -                      -\\nTMPCLST01-02   NET-2.16 -                      -\\nTMPCLST01-02   NET-2.17 -                      -\\nTMPCLST01-02   NET-2.20 -                      -\\nTMPCLST01-02   NET-2.22 -                      -\\nTMPCLST01-02   NET-2.23 -                      -\\nTMPCLST01-02   NET-2.24 -                      -\\nTMPCLST01-02   NET-2.25 -                      -\\nTMPCLST01-02   NET-2.26 -                      -\\nTMPCLST01-02   NET-2.27 -                      -\\nTMPCLST01-02   NET-2.28 -                      -\\nTMPCLST01-02   NET-2.29 -                      -\\nTMPCLST01-02   NET-2.30 -                      -\\nTMPCLST01-02   NET-2.31 -                      -\\nTMPCLST01-02   NET-2.32 -                      -\\nTMPCLST01-02   NET-2.33 -                      -\\nTMPCLST01-02   NET-2.52 -                      -\\nTMPCLST01-02   NET-2.53 -                      -\\nTMPCLST01-02   NET-2.54 -                      -\\nTMPCLST01-02   NET-2.55 -                      -\\nTMPCLST01-02   NET-2.56 -                      -\\n\\n\\n\\n aggregate\\n aggregate          diskcount node         maxraidsize raidtype size    volcount      \\nTMPCLST01_01_aggr0 4         TMPCLST01-01 8           raid4    23.73GB 2\\nTMPCLST01_01_aggr1 14        TMPCLST01-01 14          raid4    102.8GB 33\\nTMPCLST01_02_aggr0 4         TMPCLST01-02 8           raid4    23.73GB 2\\nmiirror_node2      20        TMPCLST01-02 5           raid_dp  45.09GB 3\\n\\n\\n\\n\\n ',\n",
              " ' Vserver \\n\\n Vserver\\n vserver type   rootvolume aggregate data-services ipspace     \\nCluster system -          -         -             Cluster\\nONTAPCLUSTER8 data ONTAPCLUSTER8_root TMPCLST01_01_aggr1 data-cifs,data-flexcache,data-iscsi,data-nfs,data-nvme-tcp Default\\nSVM     data   SVM_root   miirror_node2 data-cifs,data-flexcache,data-iscsi,data-nfs,data-nvme-tcp Default\\nTMPCIFS01 data TMPCIFS01_root TMPCLST01_01_aggr1 data-cifs,data-flexcache,data-iscsi,data-nfs,data-nvme-tcp Default\\nTMPCLST01 admin -         -         -             Default\\nTMPCLST01-01 node -       -         -             -\\nTMPCLST01-02 node -       -         -             -\\nVMNFSDS01 data VMNFSDS01_root TMPCLST01_01_aggr1 data-cifs,data-flexcache,data-iscsi,data-nfs,data-nvme-tcp Default\\ncifs01  data   cifs01_root TMPCLST01_01_aggr1 data-cifs,data-flexcache,data-iscsi,data-nfs,data-nvme-tcp Default\\ncifs01drnew data cifs01dr_root TMPCLST01_01_aggr1 data-cifs,data-flexcache,data-iscsi,data-nfs,data-nvme-tcp Default\\nfileserver01 data fileserver01_root TMPCLST01_01_aggr1 data-cifs,data-flexcache,data-iscsi,data-nfs,data-nvme-tcp Default\\nnpserv01-dr data npserv01_root TMPCLST01_01_aggr1 data-cifs,data-flexcache,data-iscsi,data-nfs,data-nvme-tcp Default\\nnpserv02-dr data npserv02_root TMPCLST01_01_aggr1 data-cifs,data-flexcache,data-iscsi,data-nfs,data-nvme-tcp Default\\nntsv007 data   ntsv007_root TMPCLST01_01_aggr1 data-cifs,data-flexcache,data-iscsi,data-nfs,data-nvme-tcp Default\\noze7a   data   oze9d_root TMPCLST01_01_aggr1 data-cifs,data-flexcache,data-iscsi,data-nfs,data-nvme-tcp Default\\nsvm-ntsv008 data ntsv008_root TMPCLST01_01_aggr1 data-cifs,data-flexcache,data-iscsi,data-nfs,data-nvme-tcp Default\\ntyo-netapp07 data tyo_netapp07_root TMPCLST01_01_aggr1 data-cifs,data-flexcache,data-iscsi,data-nfs,data-nvme-tcp Default\\n\\n\\n\\n Vserver export-policy rule\\n vserver   policyname ruleindex protocol clientmatch    rorule rwrule superuser       \\nVMNFSDS01 default    1         nfs      172.24.20.0/24 any    any    any\\noze7a     default    20        nfs3,nfs4,nfs 172.20.42.32 sys sys    any\\noze7a     exp_oze9d_root 1     nfs      172.20.31.136  sys    sys    sys\\noze7a     exp_vol8   1         nfs      172.20.40.21,172.20.40.22,172.20.40.23,172.20.40.24,172.20.40.25,172.20.40.26,172.20.40.27 sys sys any\\noze7a     exp_vol8   3         nfs      192.168.49.10  sys    sys    sys\\noze7a     exp_vol8   4         nfs      172.20.31.136  sys    sys    sys\\noze7a     exp_vol8   5         nfs3,nfs4,nfs 172.20.40.21,172.20.40.22,172.20.40.23,172.20.40.24,172.20.40.25,172.20.40.26,172.20.40.27 sys sys sys\\noze7a     exp_vol8_0ld 1       nfs      172.20.40.21,172.20.40.22,172.20.40.23,172.20.40.24,172.20.40.25,172.20.40.26,172.20.40.27 sys sys any\\noze7a     exp_vol8_0ld 3       nfs      192.168.49.10  sys    sys    sys\\noze7a     exp_vol8_0ld 4       nfs      172.20.31.136  sys    sys    sys\\noze7a     exp_vol8_0ld 5       nfs3,nfs4,nfs 172.20.40.21,172.20.40.22,172.20.40.23,172.20.40.24,172.20.40.25,172.20.40.26,172.20.40.27 sys sys sys\\ntyo-netapp07 default 1         nfs      0.0.0.0/0      any    any    any\\n\\n\\n\\n Vserver_NFS\\n vserver   v3      v4.0    v4.1   \\nVMNFSDS01 enabled enabled enabled\\noze7a     enabled enabled enabled\\n\\n\\n\\n Vserver_audit\\n vserver      destination              events                                         format rotate-size rotate-limit     \\nfileserver01 /fileserver01_audit/work file-ops,cifs-logon-logoff,audit-policy-change evtx   -           1440\\n\\n\\n Vserver_CIFS\\n vserver       cifs-server   domain-workgroup ou   \\nONTAPCLUSTER8 ONTAPCLUSTER8 TEST             CN=Computers\\nTMPCIFS01     TMPCIFS01     TEST             CN=Computers\\ncifs01        CIFS01NEW     TEST             CN=Computers\\nfileserver01  FILESERVER01  TEST             CN=Computers\\nntsv007       NTSV007       TEST             CN=Computers\\nsvm-ntsv008   NTSV008       TEST             CN=Computers\\n\\n\\n\\n Vserver_CIFS_option\\n vserver       wins-servers client-session-timeout  \\nONTAPCLUSTER8 -            900\\nTMPCIFS01     -            900\\ncifs01        -            900\\nfileserver01  -            900\\nntsv007       -            900\\nsvm-ntsv008   -            900\\n\\n\\n\\n Vserver_CIFS_domain\\n 設定無し\\n\\n\\n Vserver_CIFS_share\\n vserver       share-name path share-properties                                      symlink-properties volume              \\nONTAPCLUSTER8 c$         /    oplocks,browsable,changenotify,show-previous-versions symlinks           ONTAPCLUSTER8_root\\nONTAPCLUSTER8 ipc$       /    browsable                                             -                  ONTAPCLUSTER8_root\\nTMPCIFS01     c$         /    oplocks,browsable,changenotify,show-previous-versions symlinks           TMPCIFS01_root \\nTMPCIFS01     ipc$       /    browsable                                             -                  TMPCIFS01_root \\nTMPCIFS01     qtree1     /TMPCIFS01_vol1/qtree1 oplocks,browsable,changenotify,show-previous-versions symlinks TMPCIFS01_vol1\\nTMPCIFS01     qtree2     /TMPCIFS01_vol1/qtree2 oplocks,browsable,changenotify,show-previous-versions symlinks TMPCIFS01_vol1\\ncifs01        c$         /    oplocks,browsable,changenotify,show-previous-versions symlinks           cifs01_root    \\ncifs01        ipc$       /    browsable                                             -                  cifs01_root    \\ncifs01        vol01      /vol01 oplocks,browsable,changenotify,show-previous-versions symlinks         vol01          \\ncifs01        vol1       /vol01 oplocks,browsable,changenotify,show-previous-versions symlinks         vol01          \\nfileserver01  audit      /fileserver01_audit oplocks,browsable,changenotify,show-previous-versions enable,read_only fileserver01_audit\\nfileserver01  c$         /    oplocks,browsable,changenotify,show-previous-versions symlinks           fileserver01_root\\nfileserver01  ipc$       /    browsable                                             -                  fileserver01_root\\nntsv007       c$         /    oplocks,browsable,changenotify,show-previous-versions symlinks           ntsv007_root   \\nntsv007       HOME$      /vol1/HOME oplocks,browsable,changenotify,show-previous-versions symlinks     -              \\nntsv007       ipc$       /    browsable                                             -                  ntsv007_root   \\nntsv007       vol1       /vol1 oplocks,browsable,changenotify,show-previous-versions symlinks          -              \\nsvm-ntsv008   5teian     /testvol/5teian oplocks,browsable,changenotify,show-previous-versions symlinks svm_testvol   \\nsvm-ntsv008   c$         /    oplocks,browsable,changenotify,show-previous-versions symlinks           ntsv008_root   \\nsvm-ntsv008   ipc$       /    browsable                                             -                  ntsv008_root   \\nsvm-ntsv008   qtree1     /testvol/qtree1 oplocks,browsable,changenotify,show-previous-versions symlinks svm_testvol   \\nsvm-ntsv008   qtree2     /testvol/qtree2 oplocks,browsable,changenotify,showsnapshot,access-based-enumeration symlinks svm_testvol\\nsvm-ntsv008   qtree3     /testvol oplocks,browsable,changenotify,show-previous-versions symlinks       svm_testvol    \\nsvm-ntsv008   qtreetest  /testvol/qtree1 oplocks,browsable,changenotify,show-previous-versions enable,read_only svm_testvol\\n\\n\\n\\n Vserver_Qtree\\n vserver       volume             qtree qtree-path              security-style oplock-mode unix-permissions qtree-id       \\nONTAPCLUSTER8 ONTAPCLUSTER8_root \"\"    /vol/ONTAPCLUSTER8_root ntfs           enable      -                0\\nONTAPCLUSTER8 vol01              \"\"    /vol/vol01              ntfs           enable      -                0\\nSVM           SVM_root           \"\"    /vol/SVM_root           unix           enable      rwxr-xr-x     0\\nTMPCIFS01     TMPCIFS01_root     \"\"    /vol/TMPCIFS01_root     ntfs           enable      -                0\\nTMPCIFS01     TMPCIFS01_vol1     \"\"    /vol/TMPCIFS01_vol1     ntfs           enable      -                0\\nTMPCIFS01     TMPCIFS01_vol1     qtree1 /vol/TMPCIFS01_vol1/qtree1 ntfs       enable      -                1\\nTMPCIFS01     TMPCIFS01_vol1     qtree2 /vol/TMPCIFS01_vol1/qtree2 ntfs       enable      -                2\\nVMNFSDS01     VMNFSDS01_root     \"\"    /vol/VMNFSDS01_root     unix           enable      rwxr-xr-x     0\\nVMNFSDS01     VMNFSDS01_vol1     \"\"    /vol/VMNFSDS01_vol1     unix           enable      rwxr-xr-x     0\\nVMNFSDS01     test01             \"\"    /vol/test01             unix           enable           0\\nVMNFSDS01     unix01             \"\"    /vol/unix01             unix           enable      rwxr-xr-x     0\\ncifs01        cifs01_root        \"\"    /vol/cifs01_root        ntfs           enable      -                0\\ncifs01        vol01              \"\"    /vol/vol01              ntfs           enable      -                0\\ncifs01        vol01              qtree1 /vol/vol01/qtree1      ntfs           enable      -                1\\ncifs01        vol01              qtree2 /vol/vol01/qtree2      ntfs           enable      -                2\\ncifs01drnew   cifs01dr_root      \"\"    /vol/cifs01dr_root      ntfs           enable      -                0\\ncifs01drnew   vol01              \"\"    /vol/vol01              ntfs           enable      -                0\\nfileserver01  fileserver01_audit \"\"    /vol/fileserver01_audit ntfs           enable      -                0\\nfileserver01  fileserver01_audit archive /vol/fileserver01_audit/archive ntfs enable      -                1\\nfileserver01  fileserver01_audit work  /vol/fileserver01_audit/work ntfs      enable      -                2\\nfileserver01  fileserver01_root  \"\"    /vol/fileserver01_root  ntfs           enable      -                0\\nnpserv01-dr   npserv01_root      \"\"    /vol/npserv01_root      ntfs           enable      -                0\\nnpserv02-dr   npserv02_root      \"\"    /vol/npserv02_root      ntfs           enable      -                0\\nntsv007       ntsv007_root       \"\"    /vol/ntsv007_root       ntfs           enable      -                0\\nntsv007       vol                \"\"    /vol/vol                ntfs           enable      -                0\\nntsv007       vol1               \"\"    /vol/vol1               ntfs           enable      -                0\\nntsv007       vol1               HOME  /vol/vol1/HOME          ntfs           enable      -                1\\noze7a         oze9d_root         \"\"    /vol/oze9d_root         unix           enable      rwxr-xr-x     0\\noze7a         vol                \"\"    /vol/vol                unix           enable      rwxr-xr-x     0\\noze7a         vol1               \"\"    /vol/vol1               unix           enable      rwxr-xr-x     0\\noze7a         vol6               \"\"    /vol/vol6               unix           enable      rwxr-xr-x     0\\noze7a         vol7               \"\"    /vol/vol7               unix           enable      rwxr-xr-x     0\\noze7a         vol8               \"\"    /vol/vol8               unix           enable      rwxr-xr-x     0\\noze7a         vol99              \"\"    /vol/vol99              unix           enable      rwxr-xr-x     0\\nsvm-ntsv008   ntsv008_root       \"\"    /vol/ntsv008_root       ntfs           enable      -                0\\nsvm-ntsv008   svm_testvol        \"\"    /vol/svm_testvol        ntfs           enable      -                0\\nsvm-ntsv008   svm_testvol        5teian /vol/svm_testvol/5teian ntfs          enable      -                3\\nsvm-ntsv008   svm_testvol        qtree1 /vol/svm_testvol/qtree1 ntfs          enable      -                1\\nsvm-ntsv008   svm_testvol        qtree2 /vol/svm_testvol/qtree2 ntfs          enable      -                2\\ntyo-netapp07  tyo_netapp07_root  \"\"    /vol/tyo_netapp07_root  unix           enable      rwxr-xr-x     0\\ntyo-netapp07  tyo_netapp07_vol1  \"\"    /vol/tyo_netapp07_vol1  unix           enable      rwxr-xr-x     0\\n\\n\\n\\n Vserver_Quota\\n vserver       volume \\nONTAPCLUSTER8 ONTAPCLUSTER8_root\\nONTAPCLUSTER8 vol01\\nSVM           SVM_root\\nTMPCIFS01     TMPCIFS01_root\\nTMPCIFS01     TMPCIFS01_vol1\\nTMPCLST01     MDV_CRS_77c0703ed99511edb637005056a596d9_A\\nTMPCLST01     MDV_CRS_77c0703ed99511edb637005056a596d9_B\\nTMPCLST01     MDV_aud_26ce442a7e3640b69131fce3920ea70e\\nTMPCLST01     MDV_aud_65202f5b48264c0cb6da88166f18366c\\nTMPCLST01     MDV_aud_9fc4aad5ce31472fb2171ededcb719f2\\nTMPCLST01     MDV_aud_aae35b00cee0414eb3fc610bedf0e81b\\nVMNFSDS01     VMNFSDS01_root\\nVMNFSDS01     VMNFSDS01_vol1\\nVMNFSDS01     test01\\nVMNFSDS01     unix01\\ncifs01        cifs01_root\\ncifs01        vol01\\ncifs01drnew   cifs01dr_root\\ncifs01drnew   vol01\\nfileserver01  fileserver01_audit\\nfileserver01  fileserver01_root\\nfileserver01  fileserver01_vol1\\nnpserv01-dr   npserv01_root\\nnpserv02-dr   npserv02_root\\nntsv007       ntsv007_root\\nntsv007       vol\\nntsv007       vol1\\noze7a         oze9d_root\\noze7a         vol\\noze7a         vol1\\noze7a         vol6\\noze7a         vol7\\noze7a         vol8\\noze7a         vol99\\nsvm-ntsv008   ntsv008_root\\nsvm-ntsv008   svm_testvol\\ntyo-netapp07  tyo_netapp07_root\\ntyo-netapp07  tyo_netapp07_vol1\\n\\n\\n\\n Vserver_Quota report\\n 設定無し\\n\\n\\n Vserver_Quota policy_rule\\n vserver   policy-name volume         type target qtree disk-limit file-limit threshold soft-disk-limit soft-file-limit          \\nTMPCIFS01 default     TMPCIFS01_vol1 tree \"\"     \"\"    -          -          -         -               -              \\nTMPCIFS01 default     TMPCIFS01_vol1 tree qtree1 \"\"    80MB       -          -         -               -              \\ncifs01    cifs01      vol01          tree \"\"     \"\"    -          -          -         -               -              \\ncifs01    default     vol01          tree \"\"     \"\"    -          -          -         -               -              \\nfileserver01 default  fileserver01_audit tree \"\" \"\"    -          -          -         -               -              \\nntsv007   default     vol1           tree \"\"     \"\"    -          -          -         -               -              \\noze7a     default     vol6           tree \"\"     \"\"    -          -          -         -               -              \\noze7a     default     vol7           tree \"\"     \"\"    -          -          -         -               -              \\nsvm-ntsv008 default   svm_testvol    tree \"\"     \"\"    -          -          -         -               -              \\n\\n\\n\\n ',\n",
              " ' Volume \\n\\n\\n Volume\\n vserver       volume             aggregate          size volume-style-extended security-style unix-permissions junction-path max-autosize autosize-mode type language           \\nONTAPCLUSTER8 ONTAPCLUSTER8_root TMPCLST01_01_aggr1 20MB flexvol               ntfs                /             24MB         off           RW   ja_JP.PCK_v2.UTF-8\\nONTAPCLUSTER8 vol01              TMPCLST01_01_aggr1 300GB flexvol              ntfs                /vol01        360GB        off           RW   ja_JP.PCK_v2.UTF-8\\nSVM           SVM_root           miirror_node2      20MB flexvol               unix           rwxr-xr-x     /             24MB         off           RW   C.UTF-8\\nTMPCIFS01     TMPCIFS01_root     TMPCLST01_01_aggr1 20MB flexvol               ntfs                /             24MB         off           RW   utf8mb4\\nTMPCIFS01     TMPCIFS01_vol1     TMPCLST01_01_aggr1 100MB flexvol              ntfs                /TMPCIFS01_vol1 120MB      off           RW   utf8mb4\\nTMPCLST01     MDV_CRS_77c0703ed99511edb637005056a596d9_A TMPCLST01_01_aggr1 20MB flexvol unix rwx     -             24MB         off           RW   en_US\\nTMPCLST01     MDV_CRS_77c0703ed99511edb637005056a596d9_B miirror_node2 20MB flexvol unix      rwx     -             24MB         off           RW   en_US\\nTMPCLST01     MDV_aud_26ce442a7e3640b69131fce3920ea70e miirror_node2 2GB flexvol unix         rwx     -             2.40GB       off           RW   en_US\\nTMPCLST01     MDV_aud_65202f5b48264c0cb6da88166f18366c TMPCLST01_01_aggr0 2GB flexvol unix    rwx     -             2.40GB       off           RW   en_US\\nTMPCLST01     MDV_aud_9fc4aad5ce31472fb2171ededcb719f2 TMPCLST01_02_aggr0 2GB flexvol unix    rwx     -             2.40GB       off           RW   en_US\\nTMPCLST01     MDV_aud_aae35b00cee0414eb3fc610bedf0e81b TMPCLST01_01_aggr1 2GB flexvol unix    rwx     -             2.40GB       off           RW   en_US\\nTMPCLST01-01  vol0               TMPCLST01_01_aggr0 14GB flexvol               -                   -             16.80GB      off           RW   -\\nTMPCLST01-02  vol0               TMPCLST01_02_aggr0 14GB flexvol               -                   -             16.80GB      off           RW   -\\nVMNFSDS01     VMNFSDS01_root     TMPCLST01_01_aggr1 20MB flexvol               unix           rwxr-xr-x     /             24MB         off           RW   C.UTF-8\\nVMNFSDS01     VMNFSDS01_vol1     TMPCLST01_01_aggr1 100GB flexvol              unix           rwxr-xr-x     /VMNFSDS01_vol1 120GB      off           RW   C.UTF-8\\nVMNFSDS01     test01             TMPCLST01_01_aggr1 4GB  flexvol               unix                /test01       4.80GB       off           RW   C.UTF-8\\nVMNFSDS01     unix01             TMPCLST01_01_aggr1 20MB flexvol               unix           rwxr-xr-x     -             24MB         off           RW   C.UTF-8\\ncifs01        cifs01_root        TMPCLST01_01_aggr1 20MB flexvol               ntfs                /             24MB         off           RW   utf8mb4\\ncifs01        vol01              TMPCLST01_01_aggr1 100GB flexvol              ntfs                /vol01        120GB        off           RW   utf8mb4\\ncifs01drnew   cifs01dr_root      TMPCLST01_01_aggr1 20MB flexvol               ntfs                /             24MB         off           RW   utf8mb4\\ncifs01drnew   vol01              TMPCLST01_01_aggr1 5.39GB flexvol             ntfs                -             16TB         grow_shrink   RW   utf8mb4\\nfileserver01  fileserver01_audit TMPCLST01_01_aggr1 500GB flexvol              ntfs                /fileserver01_audit 600GB  grow_shrink   RW   ja_JP.PCK.UTF-8\\nfileserver01  fileserver01_root  TMPCLST01_01_aggr1 20MB flexvol               ntfs                /             24MB         off           RW   ja_JP.PCK_v2.UTF-8\\nfileserver01  fileserver01_vol1  TMPCLST01_01_aggr1 1GB  flexvol               -                   -             16TB         grow_shrink   DP   ja_JP.PCK_v2.UTF-8\\nnpserv01-dr   npserv01_root      TMPCLST01_01_aggr1 20MB flexvol               ntfs                /             24MB         off           RW   ja_JP.PCK_v2\\nnpserv02-dr   npserv02_root      TMPCLST01_01_aggr1 20MB flexvol               ntfs                /             24MB         off           RW   ja_JP.PCK_v2\\nntsv007       ntsv007_root       TMPCLST01_01_aggr1 20MB flexvol               ntfs                /             24MB         off           RW   C.UTF-8\\nntsv007       vol                TMPCLST01_01_aggr1 1GB  flexvol               ntfs                -             1.20GB       off           RW   ja_JP.PCK_v2\\nntsv007       vol1               TMPCLST01_01_aggr1 1GB  flexvol               ntfs                -             2.40GB       grow_shrink   RW   ja_JP.PCK_v2\\noze7a         oze9d_root         TMPCLST01_01_aggr1 20MB flexvol               unix           rwxr-xr-x     /             24MB         off           RW   en_US.UTF-8\\noze7a         vol                TMPCLST01_01_aggr1 1GB  flexvol               unix           rwxr-xr-x     -             1.20GB       off           RW   en_US.UTF-8\\noze7a         vol1               TMPCLST01_01_aggr1 1GB  flexvol               unix           rwxr-xr-x     -             1.20GB       off           RW   en_US.UTF-8\\noze7a         vol6               TMPCLST01_01_aggr1 1GB  flexvol               unix           rwxr-xr-x     /vol6         1.20GB       off           RW   en_US.UTF-8\\noze7a         vol7               TMPCLST01_01_aggr1 1GB  flexvol               unix           rwxr-xr-x     /vol7         1.20GB       off           RW   en_US.UTF-8\\noze7a         vol8               TMPCLST01_01_aggr1 1GB  flexvol               unix           rwxr-xr-x     /vol8         1.20GB       off           RW   en_US.UTF-8\\noze7a         vol99              TMPCLST01_01_aggr1 1GB  flexvol               unix           rwxr-xr-x     /vol99        1.20GB       off           RW   en_US.UTF-8\\nsvm-ntsv008   ntsv008_root       TMPCLST01_01_aggr1 20MB flexvol               ntfs                /             24MB         off           RW   C.UTF-8\\nsvm-ntsv008   svm_testvol        TMPCLST01_01_aggr1 1GB  flexvol               ntfs                /testvol      1.20GB       off           RW   ja_JP.PCK_v2\\ntyo-netapp07  tyo_netapp07_root  TMPCLST01_01_aggr1 20MB flexvol               unix           rwxr-xr-x     /             24MB         off           RW   C.UTF-8\\ntyo-netapp07  tyo_netapp07_vol1  TMPCLST01_01_aggr1 1GB  flexvol               unix           rwxr-xr-x     /tyo_netapp07_vol1 1.20GB  grow_shrink   RW   C.UTF-8\\n\\n\\n\\n Volume_flexgroup\\n vserver       volume             aggr-list          constituent-count   \\nONTAPCLUSTER8 ONTAPCLUSTER8_root TMPCLST01_01_aggr1 -\\nONTAPCLUSTER8 vol01              TMPCLST01_01_aggr1 -\\nSVM           SVM_root           miirror_node2      -\\nTMPCIFS01     TMPCIFS01_root     TMPCLST01_01_aggr1 -\\nTMPCIFS01     TMPCIFS01_vol1     TMPCLST01_01_aggr1 -\\nTMPCLST01     MDV_CRS_77c0703ed99511edb637005056a596d9_A TMPCLST01_01_aggr1 -\\nTMPCLST01     MDV_CRS_77c0703ed99511edb637005056a596d9_B miirror_node2 -\\nTMPCLST01     MDV_aud_26ce442a7e3640b69131fce3920ea70e miirror_node2 -\\nTMPCLST01     MDV_aud_65202f5b48264c0cb6da88166f18366c TMPCLST01_01_aggr0 -\\nTMPCLST01     MDV_aud_9fc4aad5ce31472fb2171ededcb719f2 TMPCLST01_02_aggr0 -\\nTMPCLST01     MDV_aud_aae35b00cee0414eb3fc610bedf0e81b TMPCLST01_01_aggr1 -\\nTMPCLST01-01  vol0               TMPCLST01_01_aggr0 -\\nTMPCLST01-02  vol0               TMPCLST01_02_aggr0 -\\nVMNFSDS01     VMNFSDS01_root     TMPCLST01_01_aggr1 -\\nVMNFSDS01     VMNFSDS01_vol1     TMPCLST01_01_aggr1 -\\nVMNFSDS01     test01             TMPCLST01_01_aggr1 -\\nVMNFSDS01     unix01             TMPCLST01_01_aggr1 -\\ncifs01        cifs01_root        TMPCLST01_01_aggr1 -\\ncifs01        vol01              TMPCLST01_01_aggr1 -\\ncifs01drnew   cifs01dr_root      TMPCLST01_01_aggr1 -\\ncifs01drnew   vol01              TMPCLST01_01_aggr1 -\\nfileserver01  fileserver01_audit TMPCLST01_01_aggr1 -\\nfileserver01  fileserver01_root  TMPCLST01_01_aggr1 -\\nfileserver01  fileserver01_vol1  TMPCLST01_01_aggr1 -\\nnpserv01-dr   npserv01_root      TMPCLST01_01_aggr1 -\\nnpserv02-dr   npserv02_root      TMPCLST01_01_aggr1 -\\nntsv007       ntsv007_root       TMPCLST01_01_aggr1 -\\nntsv007       vol                TMPCLST01_01_aggr1 -\\nntsv007       vol1               TMPCLST01_01_aggr1 -\\noze7a         oze9d_root         TMPCLST01_01_aggr1 -\\noze7a         vol                TMPCLST01_01_aggr1 -\\noze7a         vol1               TMPCLST01_01_aggr1 -\\noze7a         vol6               TMPCLST01_01_aggr1 -\\noze7a         vol7               TMPCLST01_01_aggr1 -\\noze7a         vol8               TMPCLST01_01_aggr1 -\\noze7a         vol99              TMPCLST01_01_aggr1 -\\nsvm-ntsv008   ntsv008_root       TMPCLST01_01_aggr1 -\\nsvm-ntsv008   svm_testvol        TMPCLST01_01_aggr1 -\\ntyo-netapp07  tyo_netapp07_root  TMPCLST01_01_aggr1 -\\ntyo-netapp07  tyo_netapp07_vol1  TMPCLST01_01_aggr1 -\\n\\n\\n\\n Volume_flexgroup(constituent volume)\\n 設定無し\\n\\n\\n Volume_efficiency\\n vserver   volume         state   schedule   compression compression-type data-compaction      \\nTMPCIFS01 TMPCIFS01_vol1 Enabled sun-sat@23 false       -                false\\nVMNFSDS01 VMNFSDS01_vol1 Enabled sun-sat@0  false       -                false\\nntsv007   vol1           Enabled sun-sat@23 false       -                false\\n\\n\\n\\n Volume_efficiency_policy\\n vserver       policy schedule  \\nONTAPCLUSTER8 auto   -\\nONTAPCLUSTER8 default daily\\nONTAPCLUSTER8 inline-only -\\nSVM           auto   -\\nSVM           default daily\\nSVM           inline-only -\\nTMPCIFS01     auto   -\\nTMPCIFS01     default daily\\nTMPCIFS01     inline-only -\\nVMNFSDS01     auto   -\\nVMNFSDS01     default daily\\nVMNFSDS01     inline-only -\\ncifs01        auto   -\\ncifs01        default daily\\ncifs01        inline-only -\\ncifs01drnew   auto   -\\ncifs01drnew   default daily\\ncifs01drnew   inline-only -\\nfileserver01  auto   -\\nfileserver01  default daily\\nfileserver01  inline-only -\\nnpserv01-dr   auto   -\\nnpserv01-dr   default daily\\nnpserv01-dr   inline-only -\\nnpserv02-dr   auto   -\\nnpserv02-dr   default daily\\nnpserv02-dr   inline-only -\\nntsv007       auto   -\\nntsv007       default daily\\nntsv007       inline-only -\\noze7a         auto   -\\noze7a         default daily\\noze7a         inline-only -\\nsvm-ntsv008   auto   -\\nsvm-ntsv008   default daily\\nsvm-ntsv008   inline-only -\\ntyo-netapp07  auto   -\\ntyo-netapp07  default daily\\ntyo-netapp07  inline-only -\\n\\n\\n\\n\\n ',\n",
              " ' Snapshot \\n\\n Volume_Snapshot\\n vserver       volume             snapdir-access percent-snapshot-space snapshot-policy    \\nONTAPCLUSTER8 ONTAPCLUSTER8_root true           5%                     default\\nONTAPCLUSTER8 vol01              true           5%                     default\\nSVM           SVM_root           true           5%                     default\\nTMPCIFS01     TMPCIFS01_root     true           5%                     none\\nTMPCIFS01     TMPCIFS01_vol1     true           0%                     none\\nTMPCLST01     MDV_CRS_77c0703ed99511edb637005056a596d9_A true 5%       none\\nTMPCLST01     MDV_CRS_77c0703ed99511edb637005056a596d9_B true 5%       none\\nTMPCLST01     MDV_aud_26ce442a7e3640b69131fce3920ea70e true 5%         none\\nTMPCLST01     MDV_aud_65202f5b48264c0cb6da88166f18366c true 5%         none\\nTMPCLST01     MDV_aud_9fc4aad5ce31472fb2171ededcb719f2 true 5%         none\\nTMPCLST01     MDV_aud_aae35b00cee0414eb3fc610bedf0e81b true 5%         none\\nTMPCLST01-01  vol0               true           0%                     -\\nTMPCLST01-02  vol0               true           0%                     -\\nVMNFSDS01     VMNFSDS01_root     true           5%                     default\\nVMNFSDS01     VMNFSDS01_vol1     true           0%                     none\\nVMNFSDS01     test01             true           5%                     default\\nVMNFSDS01     unix01             true           5%                     default\\ncifs01        cifs01_root        true           5%                     default\\ncifs01        vol01              true           5%                     default\\ncifs01drnew   cifs01dr_root      true           5%                     default\\ncifs01drnew   vol01              true           0%                     none\\nfileserver01  fileserver01_audit true           5%                     none\\nfileserver01  fileserver01_root  true           5%                     default\\nfileserver01  fileserver01_vol1  true           0%                     none\\nnpserv01-dr   npserv01_root      true           5%                     default\\nnpserv02-dr   npserv02_root      true           5%                     default\\nntsv007       ntsv007_root       true           5%                     default\\nntsv007       vol                true           5%                     default\\nntsv007       vol1               true           20%                    default\\noze7a         oze9d_root         true           5%                     ss_policy_026\\noze7a         vol                true           5%                     ss_policy_026\\noze7a         vol1               true           5%                     ss_policy_026\\noze7a         vol6               true           5%                     ss_policy_026\\noze7a         vol7               true           5%                     ss_policy_026\\noze7a         vol8               true           20%                    ss_policy_026\\noze7a         vol99              true           5%                     default\\nsvm-ntsv008   ntsv008_root       true           5%                     default\\nsvm-ntsv008   svm_testvol        true           5%                     default\\ntyo-netapp07  tyo_netapp07_root  true           5%                     none\\ntyo-netapp07  tyo_netapp07_vol1  true           0%                     none\\n\\n\\n\\n Volume_snapshot_policy\\n vserver   policy  enabled schedules counts snapmirror-labels     \\nTMPCLST01 daily_1 true    daily_1   14     -\\nTMPCLST01 default true    hourly,daily,weekly 10,2,2 -,daily,weekly\\nTMPCLST01 default-1weekly true hourly,daily,weekly 6,2,1 -,-,-\\nTMPCLST01 none    false   -         -      -\\nTMPCLST01 ss_policy_026 true ss_0,ss_8_20 2,6 -,-\\nTMPCLST01 vol001  true    cifs01_vol001_1,cifs01_vol001_2,cifs01_vol001_3,cifs01_vol001_4,cifs01_vol001_5 1,2,3,4,5 -,-,-,-,-\\ncifs01    vol01   true    cifs01_vol01_1,cifs01_vol01_2 31,39 -,-\\nfileserver01 fileserver01_vol1 true hourly,daily 20,14 -,-\\n\\n\\n\\n\\n ',\n",
              " ' Snapmirror \\n\\n cluster_peer\\n cluster   peer-addrs     ipspace  \\nTMPCLST02 192.168.100.49 Default\\n\\n\\n vserver_peer\\n vserver peer-vserver applications peer-cluster   \\ncifs01  cifs01dr     snapmirror   TMPCLST02\\nntsv007 ntsv007-new  snapmirror   TMPCLST02\\nntsv007 ntsv007-sync snapmirror   TMPCLST02\\n\\n\\n\\n Snapmirror\\n 設定無し\\n\\n\\n snapmirror_policy\\n vserver   policy       type         snapmirror-label        keep   schedule     \\nTMPCLST01 Asynchronous mirror-vault sm_created,daily,weekly 1,7,52 -,-,-\\nTMPCLST01 AutomatedFailOver automated-failover sm_created   1      -\\nTMPCLST01 CloudBackupDefault vault  daily                   7      -\\nTMPCLST01 Continuous   continuous   -                       -      -\\nTMPCLST01 DPDefault    async-mirror sm_created,all_source_snapshots 1,1 -,-\\nTMPCLST01 DailyBackup  vault        daily                   7      -\\nTMPCLST01 MirrorAllSnapshots async-mirror sm_created,all_source_snapshots 1,1 -,-\\nTMPCLST01 MirrorAllSnapshotsDiscardNetwork async-mirror sm_created,all_source_snapshots 1,1 -,-\\nTMPCLST01 MirrorAndVault mirror-vault sm_created,daily,weekly 1,7,52 -,-,-\\nTMPCLST01 MirrorAndVaultDiscardNetwork mirror-vault sm_created,daily,weekly 1,7,52 -,-,-\\nTMPCLST01 MirrorLatest async-mirror sm_created              1      -\\nTMPCLST01 SnapCenterAutomatedFailOver automated-failover sm_created,app_consistent 2,1 -,-\\nTMPCLST01 SnapCenterSync sync-mirror sm_created,app_consistent 2,1 -,-\\nTMPCLST01 StrictSync   strict-sync-mirror sm_created        2      -\\nTMPCLST01 Sync         sync-mirror  sm_created              2      -\\nTMPCLST01 Unified7year mirror-vault sm_created,daily,weekly,monthly 1,7,52,84 -,-,-,monthly\\nTMPCLST01 XDPDefault   vault        daily,weekly            7,52   -,-\\n\\n\\n\\n cron\\n cluster   vserver   name  month dayofweek day hour minute       \\nTMPCLST01 TMPCLST01 10min -     -         -   -    0,10,20,30,40,50\\nTMPCLST01 TMPCLST01 12-hourly - -         -   0,12 15\\nTMPCLST01 TMPCLST01 5min  -     -         -   -    0,5,10,15,20,25,30,35,40,45,50,55\\nTMPCLST01 TMPCLST01 6-hourly -  -         -   0,6,12,18 15\\nTMPCLST01 TMPCLST01 8hour -     -         -   2,10,18 15\\nTMPCLST01 TMPCLST01 cifs01_vol001_1 - -   -   0    0\\nTMPCLST01 TMPCLST01 cifs01_vol001_2 - -   -   2    0\\nTMPCLST01 TMPCLST01 cifs01_vol001_3 - -   -   3    0\\nTMPCLST01 TMPCLST01 cifs01_vol001_4 - -   -   4    0\\nTMPCLST01 TMPCLST01 cifs01_vol001_5 - -   -   5    0\\nTMPCLST01 TMPCLST01 cifs01_vol01_1 - -    -   0    20\\nTMPCLST01 TMPCLST01 cifs01_vol01_2 - -    -   8,9,10,11,12,13,14,15,16,17,18,19,20 5\\nTMPCLST01 TMPCLST01 cifs01_vol01_3 - -    -   -    0\\nTMPCLST01 TMPCLST01 cifs01_vol01_4 - -    -   -    0\\nTMPCLST01 TMPCLST01 cifs01_vol01_5 - -    -   -    0\\nTMPCLST01 TMPCLST01 cron1 -     -         -   1,2,3,4,5 0\\nTMPCLST01 TMPCLST01 cron2 -     -         1,31 -   0\\nTMPCLST01 TMPCLST01 cron3 -     -         1,2,3,4,5,6,7,8,9,10,11,12,13,14,15,16,17,18,19,20,21,22,23,24 - 0\\nTMPCLST01 TMPCLST01 cron5 -     -         -   0    0\\nTMPCLST01 TMPCLST01 daily -     -         -   0    10\\nTMPCLST01 TMPCLST01 daily_1 -   -         -   1    10\\nTMPCLST01 TMPCLST01 daily_23 -  -         -   23   10\\nTMPCLST01 TMPCLST01 hourly -    -         -   -    5\\nTMPCLST01 TMPCLST01 monthly -   -         1   0    20\\nTMPCLST01 TMPCLST01 pg-15-minutely - -    -   -    10,25,40,55\\nTMPCLST01 TMPCLST01 pg-6-hourly - -       -   3,9,15,21 3\\nTMPCLST01 TMPCLST01 pg-daily -  -         -   0    10\\nTMPCLST01 TMPCLST01 pg-daily-set2 - -     -   6    25\\nTMPCLST01 TMPCLST01 pg-daily-set3 - -     -   12   40\\nTMPCLST01 TMPCLST01 pg-daily-set4 - -     -   18   55\\nTMPCLST01 TMPCLST01 pg-hourly - -         -   -    7\\nTMPCLST01 TMPCLST01 pg-hourly-set2 - -    -   -    22\\nTMPCLST01 TMPCLST01 pg-hourly-set3 - -    -   -    37\\nTMPCLST01 TMPCLST01 pg-hourly-set4 - -    -   -    52\\nTMPCLST01 TMPCLST01 pg-remote-15-minutely - - - -  0,15,30,45\\nTMPCLST01 TMPCLST01 pg-remote-6-hourly - - -  3,9,15,21 8\\nTMPCLST01 TMPCLST01 pg-remote-daily - -   -   0    15\\nTMPCLST01 TMPCLST01 pg-remote-hourly - -  -   -    12\\nTMPCLST01 TMPCLST01 pg-remote-weekly - Sunday - 0  20\\nTMPCLST01 TMPCLST01 pg-weekly - Sunday    -   0    15\\nTMPCLST01 TMPCLST01 pg-weekly-set2 - Tuesday - 4   30\\nTMPCLST01 TMPCLST01 pg-weekly-set3 - Thursday - 10 44\\nTMPCLST01 TMPCLST01 pg-weekly-set4 - Saturday - 16 59\\nTMPCLST01 TMPCLST01 ss_0  -     -         -   0    0\\nTMPCLST01 TMPCLST01 ss_0_12 -   -         -   0,12 0\\nTMPCLST01 TMPCLST01 ss_8_20 -   -         -   8,12,16,20 0\\nTMPCLST01 TMPCLST01 test  -     -         -   -    0\\nTMPCLST01 TMPCLST01 test1 -     -         -   -    0\\nTMPCLST01 TMPCLST01 test3 -     -         -   9,10,11,12,13,14,15,16,17,18,19,20 5\\nTMPCLST01 TMPCLST01 test4 -     -         -   0    0\\nTMPCLST01 TMPCLST01 vol01 -     -         -   -    5\\nTMPCLST01 TMPCLST01 vol01_1 -   -         -   -    0,10,20,30,40,50\\nTMPCLST01 TMPCLST01 vol01_2 -   Monday,Saturday - - 0\\nTMPCLST01 TMPCLST01 weekly -    Sunday    -   0    15\\nTMPCLST01 cifs01    cifs01_vol001_1 - -   -   0    0\\nTMPCLST01 cifs01    cifs01_vol001_2 - -   -   2    0\\nTMPCLST01 cifs01    cifs01_vol001_3 - -   -   3    0\\nTMPCLST01 cifs01    cifs01_vol001_4 - -   -   4    0\\nTMPCLST01 cifs01    cifs01_vol001_5 - -   -   5    0\\nTMPCLST01 cifs01    daily_1 -   -         -   1    10\\nTMPCLST01 ntsv007   cifs01_vol001_1 - -   -   0    0\\nTMPCLST01 ntsv007   cifs01_vol001_2 - -   -   2    0\\nTMPCLST01 ntsv007   cifs01_vol001_3 - -   -   3    0\\nTMPCLST01 ntsv007   cifs01_vol001_4 - -   -   4    0\\nTMPCLST01 ntsv007   cifs01_vol001_5 - -   -   5    0\\nTMPCLST01 ntsv007   ss_0  -     -         -   0    0\\nTMPCLST01 ntsv007   ss_8_20 -   -         -   8,12,16,20 0\\n\\n\\n\\n\\n ',\n",
              " ' end\\n\\n\\n']"
            ]
          },
          "metadata": {},
          "execution_count": 117
        }
      ]
    },
    {
      "cell_type": "code",
      "metadata": {
        "id": "62YgGiVh-R62"
      },
      "source": [
        "#@title エクセルファイルへの書き込み\n",
        "import openpyxl\n",
        "\n",
        "# ... (他のコード) ...\n",
        "\n",
        "# エクセルファイルのワークブックを作成\n",
        "book = openpyxl.Workbook()\n",
        "\n",
        "#↓↓↓↓↓↓↓↓↓↓↓↓↓↓↓↓↓↓↓↓\n",
        "# 余計なシートを削除--------------------------------\n",
        "\n",
        "# 表紙, 設置先情報, 改訂履歴シートを作成する\n",
        "createCover(cluster_name)\n",
        "createCustomer()\n",
        "createHistory()\n",
        "\n",
        "# コンフィグシートを作成し、テーブルを作成する\n",
        "createConfigsheet()\n",
        "createTable()\n",
        "\n",
        "# シート名を変更する\n",
        "changeSheetname()\n",
        "\n",
        "# 既存のシート名を取得\n",
        "sheet_names = book.sheetnames\n",
        "\n",
        "# 削除対象のシート名リスト\n",
        "remove_sheets = ['Sheet']  # 'Sheet' のみ削除\n",
        "\n",
        "# 存在するシートのみ削除\n",
        "for sheet_name in remove_sheets:\n",
        "  if sheet_name in sheet_names:\n",
        "    book.remove(book[sheet_name])\n",
        "\n",
        "# エクセルファイルを保存-----------------------------\n",
        "book.save('/content/01_設定シート_'+ cluster_name +'.xlsx')\n",
        "\n",
        "# ... (他のコード) ...\n",
        "\n",
        "\n",
        "\n",
        "\n",
        "\n",
        "\n"
      ],
      "execution_count": 118,
      "outputs": []
    },
    {
      "cell_type": "code",
      "metadata": {
        "id": "KsdBAYak37i5",
        "colab": {
          "base_uri": "https://localhost:8080/",
          "height": 17
        },
        "outputId": "e8b77ab7-fe39-4ffa-daae-51b2f26cb83e"
      },
      "source": [
        "#@title ファイルダウンロード\n",
        "files.download('/content/01_設定シート_'+ cluster_name +'.xlsx')"
      ],
      "execution_count": 119,
      "outputs": [
        {
          "output_type": "display_data",
          "data": {
            "text/plain": [
              "<IPython.core.display.Javascript object>"
            ],
            "application/javascript": [
              "\n",
              "    async function download(id, filename, size) {\n",
              "      if (!google.colab.kernel.accessAllowed) {\n",
              "        return;\n",
              "      }\n",
              "      const div = document.createElement('div');\n",
              "      const label = document.createElement('label');\n",
              "      label.textContent = `Downloading \"${filename}\": `;\n",
              "      div.appendChild(label);\n",
              "      const progress = document.createElement('progress');\n",
              "      progress.max = size;\n",
              "      div.appendChild(progress);\n",
              "      document.body.appendChild(div);\n",
              "\n",
              "      const buffers = [];\n",
              "      let downloaded = 0;\n",
              "\n",
              "      const channel = await google.colab.kernel.comms.open(id);\n",
              "      // Send a message to notify the kernel that we're ready.\n",
              "      channel.send({})\n",
              "\n",
              "      for await (const message of channel.messages) {\n",
              "        // Send a message to notify the kernel that we're ready.\n",
              "        channel.send({})\n",
              "        if (message.buffers) {\n",
              "          for (const buffer of message.buffers) {\n",
              "            buffers.push(buffer);\n",
              "            downloaded += buffer.byteLength;\n",
              "            progress.value = downloaded;\n",
              "          }\n",
              "        }\n",
              "      }\n",
              "      const blob = new Blob(buffers, {type: 'application/binary'});\n",
              "      const a = document.createElement('a');\n",
              "      a.href = window.URL.createObjectURL(blob);\n",
              "      a.download = filename;\n",
              "      div.appendChild(a);\n",
              "      a.click();\n",
              "      div.remove();\n",
              "    }\n",
              "  "
            ]
          },
          "metadata": {}
        },
        {
          "output_type": "display_data",
          "data": {
            "text/plain": [
              "<IPython.core.display.Javascript object>"
            ],
            "application/javascript": [
              "download(\"download_ec2157d6-4b49-4de8-b53b-e779580f7b06\", \"01_\\u8a2d\\u5b9a\\u30b7\\u30fc\\u30c8_TMPCLST01.xlsx\", 66636)"
            ]
          },
          "metadata": {}
        }
      ]
    }
  ]
}